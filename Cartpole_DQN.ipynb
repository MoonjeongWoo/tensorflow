{
  "nbformat": 4,
  "nbformat_minor": 0,
  "metadata": {
    "colab": {
      "provenance": [],
      "collapsed_sections": [],
      "include_colab_link": true
    },
    "kernelspec": {
      "name": "python3",
      "display_name": "Python 3"
    },
    "language_info": {
      "name": "python"
    },
    "accelerator": "GPU"
  },
  "cells": [
    {
      "cell_type": "markdown",
      "metadata": {
        "id": "view-in-github",
        "colab_type": "text"
      },
      "source": [
        "<a href=\"https://colab.research.google.com/github/MoonjeongWoo/tensorflow/blob/main/Cartpole_DQN.ipynb\" target=\"_parent\"><img src=\"https://colab.research.google.com/assets/colab-badge.svg\" alt=\"Open In Colab\"/></a>"
      ]
    },
    {
      "cell_type": "code",
      "metadata": {
        "colab": {
          "base_uri": "https://localhost:8080/"
        },
        "id": "L5DZbED3fchW",
        "outputId": "025ae783-bd43-4ad9-d376-5c3de499f729"
      },
      "source": [
        "%tensorflow_version 1.x"
      ],
      "execution_count": null,
      "outputs": [
        {
          "output_type": "stream",
          "name": "stdout",
          "text": [
            "TensorFlow 1.x selected.\n"
          ]
        }
      ]
    },
    {
      "cell_type": "code",
      "metadata": {
        "colab": {
          "base_uri": "https://localhost:8080/"
        },
        "id": "xblZTAsofjxv",
        "outputId": "f602048f-a001-4c3a-c708-b65798dacff3"
      },
      "source": [
        "!apt-get install -y python-numpy python-dev cmake zlib1g-dev libjpeg-dev xvfb xorg-dev python-opengl libboost-all-dev libsdl2-dev swig"
      ],
      "execution_count": null,
      "outputs": [
        {
          "output_type": "stream",
          "name": "stdout",
          "text": [
            "Reading package lists... Done\n",
            "Building dependency tree       \n",
            "Reading state information... Done\n",
            "libjpeg-dev is already the newest version (8c-2ubuntu8).\n",
            "libjpeg-dev set to manually installed.\n",
            "python-dev is already the newest version (2.7.15~rc1-1).\n",
            "python-numpy is already the newest version (1:1.13.3-2ubuntu1).\n",
            "python-numpy set to manually installed.\n",
            "zlib1g-dev is already the newest version (1:1.2.11.dfsg-0ubuntu2).\n",
            "zlib1g-dev set to manually installed.\n",
            "libboost-all-dev is already the newest version (1.65.1.0ubuntu1).\n",
            "cmake is already the newest version (3.10.2-1ubuntu2.18.04.2).\n",
            "The following additional packages will be installed:\n",
            "  gir1.2-ibus-1.0 libcapnp-0.6.1 libdbus-1-dev libdmx-dev libdmx1\n",
            "  libfontenc-dev libfs-dev libfs6 libibus-1.0-5 libibus-1.0-dev\n",
            "  libmirclient-dev libmirclient9 libmircommon-dev libmircommon7\n",
            "  libmircookie-dev libmircookie2 libmircore-dev libmircore1 libmirprotobuf3\n",
            "  libpciaccess-dev libpixman-1-dev libprotobuf-dev libprotobuf-lite10\n",
            "  libpulse-dev libpulse-mainloop-glib0 libsndio-dev libudev-dev libxaw7-dev\n",
            "  libxcomposite-dev libxcursor-dev libxfont-dev libxinerama-dev\n",
            "  libxkbcommon-dev libxkbfile-dev libxmuu-dev libxpm-dev libxrandr-dev\n",
            "  libxres-dev libxres1 libxtst-dev libxv-dev libxvmc-dev libxvmc1\n",
            "  libxxf86dga-dev libxxf86dga1 mir-client-platform-mesa-dev swig3.0\n",
            "  x11proto-composite-dev x11proto-dri2-dev x11proto-fonts-dev x11proto-gl-dev\n",
            "  x11proto-randr-dev x11proto-record-dev x11proto-render-dev\n",
            "  x11proto-resource-dev x11proto-xf86bigfont-dev x11proto-xf86dga-dev\n",
            "  x11proto-xinerama-dev xserver-xorg-dev\n",
            "Suggested packages:\n",
            "  libxaw-doc libgle3 swig-doc swig-examples swig3.0-examples swig3.0-doc\n",
            "The following NEW packages will be installed:\n",
            "  gir1.2-ibus-1.0 libcapnp-0.6.1 libdbus-1-dev libdmx-dev libdmx1\n",
            "  libfontenc-dev libfs-dev libfs6 libibus-1.0-5 libibus-1.0-dev\n",
            "  libmirclient-dev libmirclient9 libmircommon-dev libmircommon7\n",
            "  libmircookie-dev libmircookie2 libmircore-dev libmircore1 libmirprotobuf3\n",
            "  libpciaccess-dev libpixman-1-dev libprotobuf-dev libprotobuf-lite10\n",
            "  libpulse-dev libpulse-mainloop-glib0 libsdl2-dev libsndio-dev libudev-dev\n",
            "  libxaw7-dev libxcomposite-dev libxcursor-dev libxfont-dev libxinerama-dev\n",
            "  libxkbcommon-dev libxkbfile-dev libxmuu-dev libxpm-dev libxrandr-dev\n",
            "  libxres-dev libxres1 libxtst-dev libxv-dev libxvmc-dev libxvmc1\n",
            "  libxxf86dga-dev libxxf86dga1 mir-client-platform-mesa-dev python-opengl swig\n",
            "  swig3.0 x11proto-composite-dev x11proto-dri2-dev x11proto-fonts-dev\n",
            "  x11proto-gl-dev x11proto-randr-dev x11proto-record-dev x11proto-render-dev\n",
            "  x11proto-resource-dev x11proto-xf86bigfont-dev x11proto-xf86dga-dev\n",
            "  x11proto-xinerama-dev xorg-dev xserver-xorg-dev xvfb\n",
            "0 upgraded, 64 newly installed, 0 to remove and 37 not upgraded.\n",
            "Need to get 7,440 kB of archives.\n",
            "After this operation, 43.9 MB of additional disk space will be used.\n",
            "Get:1 http://archive.ubuntu.com/ubuntu bionic/main amd64 libdmx1 amd64 1:1.1.3-1 [10.4 kB]\n",
            "Get:2 http://archive.ubuntu.com/ubuntu bionic/main amd64 libxxf86dga1 amd64 2:1.1.4-1 [13.7 kB]\n",
            "Get:3 http://archive.ubuntu.com/ubuntu bionic-updates/main amd64 libibus-1.0-5 amd64 1.5.17-3ubuntu5.3 [133 kB]\n",
            "Get:4 http://archive.ubuntu.com/ubuntu bionic-updates/main amd64 gir1.2-ibus-1.0 amd64 1.5.17-3ubuntu5.3 [66.5 kB]\n",
            "Get:5 http://archive.ubuntu.com/ubuntu bionic/main amd64 libcapnp-0.6.1 amd64 0.6.1-1ubuntu1 [658 kB]\n",
            "Get:6 http://archive.ubuntu.com/ubuntu bionic-updates/main amd64 libdbus-1-dev amd64 1.12.2-1ubuntu1.2 [165 kB]\n",
            "Get:7 http://archive.ubuntu.com/ubuntu bionic/main amd64 libdmx-dev amd64 1:1.1.3-1 [34.4 kB]\n",
            "Get:8 http://archive.ubuntu.com/ubuntu bionic/main amd64 libfontenc-dev amd64 1:1.1.3-1 [13.8 kB]\n",
            "Get:9 http://archive.ubuntu.com/ubuntu bionic/main amd64 libfs6 amd64 2:1.0.7-1 [22.5 kB]\n",
            "Get:10 http://archive.ubuntu.com/ubuntu bionic/main amd64 x11proto-fonts-dev all 2018.4-4 [2,620 B]\n",
            "Get:11 http://archive.ubuntu.com/ubuntu bionic/main amd64 libfs-dev amd64 2:1.0.7-1 [26.8 kB]\n",
            "Get:12 http://archive.ubuntu.com/ubuntu bionic-updates/main amd64 libibus-1.0-dev amd64 1.5.17-3ubuntu5.3 [145 kB]\n",
            "Get:13 http://archive.ubuntu.com/ubuntu bionic/main amd64 libmircore1 amd64 0.31.1-0ubuntu1 [26.5 kB]\n",
            "Get:14 http://archive.ubuntu.com/ubuntu bionic/main amd64 libmircommon7 amd64 0.31.1-0ubuntu1 [73.9 kB]\n",
            "Get:15 http://archive.ubuntu.com/ubuntu bionic/main amd64 libprotobuf-lite10 amd64 3.0.0-9.1ubuntu1 [97.7 kB]\n",
            "Get:16 http://archive.ubuntu.com/ubuntu bionic/main amd64 libmirprotobuf3 amd64 0.31.1-0ubuntu1 [127 kB]\n",
            "Get:17 http://archive.ubuntu.com/ubuntu bionic/main amd64 libmirclient9 amd64 0.31.1-0ubuntu1 [199 kB]\n",
            "Get:18 http://archive.ubuntu.com/ubuntu bionic/main amd64 libmircore-dev amd64 0.31.1-0ubuntu1 [21.7 kB]\n",
            "Get:19 http://archive.ubuntu.com/ubuntu bionic/main amd64 libprotobuf-dev amd64 3.0.0-9.1ubuntu1 [959 kB]\n",
            "Get:20 http://archive.ubuntu.com/ubuntu bionic-updates/main amd64 libxkbcommon-dev amd64 0.8.2-1~ubuntu18.04.1 [150 kB]\n",
            "Get:21 http://archive.ubuntu.com/ubuntu bionic/main amd64 libmircommon-dev amd64 0.31.1-0ubuntu1 [13.9 kB]\n",
            "Get:22 http://archive.ubuntu.com/ubuntu bionic/main amd64 libmircookie2 amd64 0.31.1-0ubuntu1 [19.7 kB]\n",
            "Get:23 http://archive.ubuntu.com/ubuntu bionic/main amd64 libmircookie-dev amd64 0.31.1-0ubuntu1 [4,392 B]\n",
            "Get:24 http://archive.ubuntu.com/ubuntu bionic/main amd64 libmirclient-dev amd64 0.31.1-0ubuntu1 [47.8 kB]\n",
            "Get:25 http://archive.ubuntu.com/ubuntu bionic/main amd64 libpixman-1-dev amd64 0.34.0-2 [244 kB]\n",
            "Get:26 http://archive.ubuntu.com/ubuntu bionic-updates/main amd64 libpulse-mainloop-glib0 amd64 1:11.1-1ubuntu7.11 [22.1 kB]\n",
            "Get:27 http://archive.ubuntu.com/ubuntu bionic-updates/main amd64 libpulse-dev amd64 1:11.1-1ubuntu7.11 [81.5 kB]\n",
            "Get:28 http://archive.ubuntu.com/ubuntu bionic/universe amd64 libsndio-dev amd64 1.1.0-3 [13.3 kB]\n",
            "Get:29 http://archive.ubuntu.com/ubuntu bionic-updates/main amd64 libudev-dev amd64 237-3ubuntu10.52 [19.1 kB]\n",
            "Get:30 http://archive.ubuntu.com/ubuntu bionic/main amd64 libxcursor-dev amd64 1:1.1.15-1 [26.5 kB]\n",
            "Get:31 http://archive.ubuntu.com/ubuntu bionic/main amd64 x11proto-xinerama-dev all 2018.4-4 [2,628 B]\n",
            "Get:32 http://archive.ubuntu.com/ubuntu bionic/main amd64 libxinerama-dev amd64 2:1.1.3-1 [8,404 B]\n",
            "Get:33 http://archive.ubuntu.com/ubuntu bionic/main amd64 x11proto-randr-dev all 2018.4-4 [2,620 B]\n",
            "Get:34 http://archive.ubuntu.com/ubuntu bionic/main amd64 libxrandr-dev amd64 2:1.5.1-1 [24.0 kB]\n",
            "Get:35 http://archive.ubuntu.com/ubuntu bionic/main amd64 libxv-dev amd64 2:1.0.11-1 [32.5 kB]\n",
            "Get:36 http://archive.ubuntu.com/ubuntu bionic-updates/universe amd64 libsdl2-dev amd64 2.0.8+dfsg1-1ubuntu1.18.04.4 [683 kB]\n",
            "Get:37 http://archive.ubuntu.com/ubuntu bionic/main amd64 libxpm-dev amd64 1:3.5.12-1 [87.4 kB]\n",
            "Get:38 http://archive.ubuntu.com/ubuntu bionic/main amd64 libxaw7-dev amd64 2:1.0.13-1 [231 kB]\n",
            "Get:39 http://archive.ubuntu.com/ubuntu bionic/main amd64 x11proto-composite-dev all 1:2018.4-4 [2,620 B]\n",
            "Get:40 http://archive.ubuntu.com/ubuntu bionic/main amd64 libxcomposite-dev amd64 1:0.4.4-2 [9,136 B]\n",
            "Get:41 http://archive.ubuntu.com/ubuntu bionic/main amd64 libxfont-dev amd64 1:2.0.3-1 [118 kB]\n",
            "Get:42 http://archive.ubuntu.com/ubuntu bionic/main amd64 libxkbfile-dev amd64 1:1.0.9-2 [74.3 kB]\n",
            "Get:43 http://archive.ubuntu.com/ubuntu bionic/main amd64 libxmuu-dev amd64 2:1.1.2-2 [7,056 B]\n",
            "Get:44 http://archive.ubuntu.com/ubuntu bionic/main amd64 libxres1 amd64 2:1.2.0-2 [7,716 B]\n",
            "Get:45 http://archive.ubuntu.com/ubuntu bionic/main amd64 x11proto-resource-dev all 2018.4-4 [2,620 B]\n",
            "Get:46 http://archive.ubuntu.com/ubuntu bionic/main amd64 libxres-dev amd64 2:1.2.0-2 [8,136 B]\n",
            "Get:47 http://archive.ubuntu.com/ubuntu bionic/main amd64 x11proto-record-dev all 2018.4-4 [2,620 B]\n",
            "Get:48 http://archive.ubuntu.com/ubuntu bionic/main amd64 libxtst-dev amd64 2:1.2.3-1 [15.2 kB]\n",
            "Get:49 http://archive.ubuntu.com/ubuntu bionic/main amd64 libxvmc1 amd64 2:1.0.10-1 [13.7 kB]\n",
            "Get:50 http://archive.ubuntu.com/ubuntu bionic/main amd64 libxvmc-dev amd64 2:1.0.10-1 [21.3 kB]\n",
            "Get:51 http://archive.ubuntu.com/ubuntu bionic/main amd64 x11proto-xf86dga-dev all 2018.4-4 [2,624 B]\n",
            "Get:52 http://archive.ubuntu.com/ubuntu bionic/main amd64 libxxf86dga-dev amd64 2:1.1.4-1 [17.6 kB]\n",
            "Get:53 http://archive.ubuntu.com/ubuntu bionic/main amd64 mir-client-platform-mesa-dev amd64 0.31.1-0ubuntu1 [11.0 kB]\n",
            "Get:54 http://archive.ubuntu.com/ubuntu bionic/universe amd64 python-opengl all 3.1.0+dfsg-1 [496 kB]\n",
            "Get:55 http://archive.ubuntu.com/ubuntu bionic/universe amd64 swig3.0 amd64 3.0.12-1 [1,094 kB]\n",
            "Get:56 http://archive.ubuntu.com/ubuntu bionic/universe amd64 swig amd64 3.0.12-1 [6,460 B]\n",
            "Get:57 http://archive.ubuntu.com/ubuntu bionic/main amd64 x11proto-dri2-dev all 2018.4-4 [2,620 B]\n",
            "Get:58 http://archive.ubuntu.com/ubuntu bionic/main amd64 x11proto-gl-dev all 2018.4-4 [2,612 B]\n",
            "Get:59 http://archive.ubuntu.com/ubuntu bionic/main amd64 x11proto-render-dev all 2:2018.4-4 [2,620 B]\n",
            "Get:60 http://archive.ubuntu.com/ubuntu bionic/main amd64 x11proto-xf86bigfont-dev all 2018.4-4 [2,628 B]\n",
            "Get:61 http://archive.ubuntu.com/ubuntu bionic/main amd64 libpciaccess-dev amd64 0.14-1 [20.2 kB]\n",
            "Get:62 http://archive.ubuntu.com/ubuntu bionic-updates/main amd64 xserver-xorg-dev amd64 2:1.19.6-1ubuntu4.9 [198 kB]\n",
            "Get:63 http://archive.ubuntu.com/ubuntu bionic-updates/main amd64 xorg-dev all 1:7.7+19ubuntu7.1 [4,300 B]\n",
            "Get:64 http://archive.ubuntu.com/ubuntu bionic-updates/universe amd64 xvfb amd64 2:1.19.6-1ubuntu4.9 [784 kB]\n",
            "Fetched 7,440 kB in 2s (3,345 kB/s)\n",
            "Extracting templates from packages: 100%\n",
            "Selecting previously unselected package libdmx1:amd64.\n",
            "(Reading database ... 155222 files and directories currently installed.)\n",
            "Preparing to unpack .../00-libdmx1_1%3a1.1.3-1_amd64.deb ...\n",
            "Unpacking libdmx1:amd64 (1:1.1.3-1) ...\n",
            "Selecting previously unselected package libxxf86dga1:amd64.\n",
            "Preparing to unpack .../01-libxxf86dga1_2%3a1.1.4-1_amd64.deb ...\n",
            "Unpacking libxxf86dga1:amd64 (2:1.1.4-1) ...\n",
            "Selecting previously unselected package libibus-1.0-5:amd64.\n",
            "Preparing to unpack .../02-libibus-1.0-5_1.5.17-3ubuntu5.3_amd64.deb ...\n",
            "Unpacking libibus-1.0-5:amd64 (1.5.17-3ubuntu5.3) ...\n",
            "Selecting previously unselected package gir1.2-ibus-1.0:amd64.\n",
            "Preparing to unpack .../03-gir1.2-ibus-1.0_1.5.17-3ubuntu5.3_amd64.deb ...\n",
            "Unpacking gir1.2-ibus-1.0:amd64 (1.5.17-3ubuntu5.3) ...\n",
            "Selecting previously unselected package libcapnp-0.6.1:amd64.\n",
            "Preparing to unpack .../04-libcapnp-0.6.1_0.6.1-1ubuntu1_amd64.deb ...\n",
            "Unpacking libcapnp-0.6.1:amd64 (0.6.1-1ubuntu1) ...\n",
            "Selecting previously unselected package libdbus-1-dev:amd64.\n",
            "Preparing to unpack .../05-libdbus-1-dev_1.12.2-1ubuntu1.2_amd64.deb ...\n",
            "Unpacking libdbus-1-dev:amd64 (1.12.2-1ubuntu1.2) ...\n",
            "Selecting previously unselected package libdmx-dev:amd64.\n",
            "Preparing to unpack .../06-libdmx-dev_1%3a1.1.3-1_amd64.deb ...\n",
            "Unpacking libdmx-dev:amd64 (1:1.1.3-1) ...\n",
            "Selecting previously unselected package libfontenc-dev:amd64.\n",
            "Preparing to unpack .../07-libfontenc-dev_1%3a1.1.3-1_amd64.deb ...\n",
            "Unpacking libfontenc-dev:amd64 (1:1.1.3-1) ...\n",
            "Selecting previously unselected package libfs6:amd64.\n",
            "Preparing to unpack .../08-libfs6_2%3a1.0.7-1_amd64.deb ...\n",
            "Unpacking libfs6:amd64 (2:1.0.7-1) ...\n",
            "Selecting previously unselected package x11proto-fonts-dev.\n",
            "Preparing to unpack .../09-x11proto-fonts-dev_2018.4-4_all.deb ...\n",
            "Unpacking x11proto-fonts-dev (2018.4-4) ...\n",
            "Selecting previously unselected package libfs-dev:amd64.\n",
            "Preparing to unpack .../10-libfs-dev_2%3a1.0.7-1_amd64.deb ...\n",
            "Unpacking libfs-dev:amd64 (2:1.0.7-1) ...\n",
            "Selecting previously unselected package libibus-1.0-dev:amd64.\n",
            "Preparing to unpack .../11-libibus-1.0-dev_1.5.17-3ubuntu5.3_amd64.deb ...\n",
            "Unpacking libibus-1.0-dev:amd64 (1.5.17-3ubuntu5.3) ...\n",
            "Selecting previously unselected package libmircore1:amd64.\n",
            "Preparing to unpack .../12-libmircore1_0.31.1-0ubuntu1_amd64.deb ...\n",
            "Unpacking libmircore1:amd64 (0.31.1-0ubuntu1) ...\n",
            "Selecting previously unselected package libmircommon7:amd64.\n",
            "Preparing to unpack .../13-libmircommon7_0.31.1-0ubuntu1_amd64.deb ...\n",
            "Unpacking libmircommon7:amd64 (0.31.1-0ubuntu1) ...\n",
            "Selecting previously unselected package libprotobuf-lite10:amd64.\n",
            "Preparing to unpack .../14-libprotobuf-lite10_3.0.0-9.1ubuntu1_amd64.deb ...\n",
            "Unpacking libprotobuf-lite10:amd64 (3.0.0-9.1ubuntu1) ...\n",
            "Selecting previously unselected package libmirprotobuf3:amd64.\n",
            "Preparing to unpack .../15-libmirprotobuf3_0.31.1-0ubuntu1_amd64.deb ...\n",
            "Unpacking libmirprotobuf3:amd64 (0.31.1-0ubuntu1) ...\n",
            "Selecting previously unselected package libmirclient9:amd64.\n",
            "Preparing to unpack .../16-libmirclient9_0.31.1-0ubuntu1_amd64.deb ...\n",
            "Unpacking libmirclient9:amd64 (0.31.1-0ubuntu1) ...\n",
            "Selecting previously unselected package libmircore-dev:amd64.\n",
            "Preparing to unpack .../17-libmircore-dev_0.31.1-0ubuntu1_amd64.deb ...\n",
            "Unpacking libmircore-dev:amd64 (0.31.1-0ubuntu1) ...\n",
            "Selecting previously unselected package libprotobuf-dev:amd64.\n",
            "Preparing to unpack .../18-libprotobuf-dev_3.0.0-9.1ubuntu1_amd64.deb ...\n",
            "Unpacking libprotobuf-dev:amd64 (3.0.0-9.1ubuntu1) ...\n",
            "Selecting previously unselected package libxkbcommon-dev:amd64.\n",
            "Preparing to unpack .../19-libxkbcommon-dev_0.8.2-1~ubuntu18.04.1_amd64.deb ...\n",
            "Unpacking libxkbcommon-dev:amd64 (0.8.2-1~ubuntu18.04.1) ...\n",
            "Selecting previously unselected package libmircommon-dev:amd64.\n",
            "Preparing to unpack .../20-libmircommon-dev_0.31.1-0ubuntu1_amd64.deb ...\n",
            "Unpacking libmircommon-dev:amd64 (0.31.1-0ubuntu1) ...\n",
            "Selecting previously unselected package libmircookie2:amd64.\n",
            "Preparing to unpack .../21-libmircookie2_0.31.1-0ubuntu1_amd64.deb ...\n",
            "Unpacking libmircookie2:amd64 (0.31.1-0ubuntu1) ...\n",
            "Selecting previously unselected package libmircookie-dev:amd64.\n",
            "Preparing to unpack .../22-libmircookie-dev_0.31.1-0ubuntu1_amd64.deb ...\n",
            "Unpacking libmircookie-dev:amd64 (0.31.1-0ubuntu1) ...\n",
            "Selecting previously unselected package libmirclient-dev:amd64.\n",
            "Preparing to unpack .../23-libmirclient-dev_0.31.1-0ubuntu1_amd64.deb ...\n",
            "Unpacking libmirclient-dev:amd64 (0.31.1-0ubuntu1) ...\n",
            "Selecting previously unselected package libpixman-1-dev:amd64.\n",
            "Preparing to unpack .../24-libpixman-1-dev_0.34.0-2_amd64.deb ...\n",
            "Unpacking libpixman-1-dev:amd64 (0.34.0-2) ...\n",
            "Selecting previously unselected package libpulse-mainloop-glib0:amd64.\n",
            "Preparing to unpack .../25-libpulse-mainloop-glib0_1%3a11.1-1ubuntu7.11_amd64.deb ...\n",
            "Unpacking libpulse-mainloop-glib0:amd64 (1:11.1-1ubuntu7.11) ...\n",
            "Selecting previously unselected package libpulse-dev:amd64.\n",
            "Preparing to unpack .../26-libpulse-dev_1%3a11.1-1ubuntu7.11_amd64.deb ...\n",
            "Unpacking libpulse-dev:amd64 (1:11.1-1ubuntu7.11) ...\n",
            "Selecting previously unselected package libsndio-dev:amd64.\n",
            "Preparing to unpack .../27-libsndio-dev_1.1.0-3_amd64.deb ...\n",
            "Unpacking libsndio-dev:amd64 (1.1.0-3) ...\n",
            "Selecting previously unselected package libudev-dev:amd64.\n",
            "Preparing to unpack .../28-libudev-dev_237-3ubuntu10.52_amd64.deb ...\n",
            "Unpacking libudev-dev:amd64 (237-3ubuntu10.52) ...\n",
            "Selecting previously unselected package libxcursor-dev:amd64.\n",
            "Preparing to unpack .../29-libxcursor-dev_1%3a1.1.15-1_amd64.deb ...\n",
            "Unpacking libxcursor-dev:amd64 (1:1.1.15-1) ...\n",
            "Selecting previously unselected package x11proto-xinerama-dev.\n",
            "Preparing to unpack .../30-x11proto-xinerama-dev_2018.4-4_all.deb ...\n",
            "Unpacking x11proto-xinerama-dev (2018.4-4) ...\n",
            "Selecting previously unselected package libxinerama-dev:amd64.\n",
            "Preparing to unpack .../31-libxinerama-dev_2%3a1.1.3-1_amd64.deb ...\n",
            "Unpacking libxinerama-dev:amd64 (2:1.1.3-1) ...\n",
            "Selecting previously unselected package x11proto-randr-dev.\n",
            "Preparing to unpack .../32-x11proto-randr-dev_2018.4-4_all.deb ...\n",
            "Unpacking x11proto-randr-dev (2018.4-4) ...\n",
            "Selecting previously unselected package libxrandr-dev:amd64.\n",
            "Preparing to unpack .../33-libxrandr-dev_2%3a1.5.1-1_amd64.deb ...\n",
            "Unpacking libxrandr-dev:amd64 (2:1.5.1-1) ...\n",
            "Selecting previously unselected package libxv-dev:amd64.\n",
            "Preparing to unpack .../34-libxv-dev_2%3a1.0.11-1_amd64.deb ...\n",
            "Unpacking libxv-dev:amd64 (2:1.0.11-1) ...\n",
            "Selecting previously unselected package libsdl2-dev:amd64.\n",
            "Preparing to unpack .../35-libsdl2-dev_2.0.8+dfsg1-1ubuntu1.18.04.4_amd64.deb ...\n",
            "Unpacking libsdl2-dev:amd64 (2.0.8+dfsg1-1ubuntu1.18.04.4) ...\n",
            "Selecting previously unselected package libxpm-dev:amd64.\n",
            "Preparing to unpack .../36-libxpm-dev_1%3a3.5.12-1_amd64.deb ...\n",
            "Unpacking libxpm-dev:amd64 (1:3.5.12-1) ...\n",
            "Selecting previously unselected package libxaw7-dev:amd64.\n",
            "Preparing to unpack .../37-libxaw7-dev_2%3a1.0.13-1_amd64.deb ...\n",
            "Unpacking libxaw7-dev:amd64 (2:1.0.13-1) ...\n",
            "Selecting previously unselected package x11proto-composite-dev.\n",
            "Preparing to unpack .../38-x11proto-composite-dev_1%3a2018.4-4_all.deb ...\n",
            "Unpacking x11proto-composite-dev (1:2018.4-4) ...\n",
            "Selecting previously unselected package libxcomposite-dev:amd64.\n",
            "Preparing to unpack .../39-libxcomposite-dev_1%3a0.4.4-2_amd64.deb ...\n",
            "Unpacking libxcomposite-dev:amd64 (1:0.4.4-2) ...\n",
            "Selecting previously unselected package libxfont-dev.\n",
            "Preparing to unpack .../40-libxfont-dev_1%3a2.0.3-1_amd64.deb ...\n",
            "Unpacking libxfont-dev (1:2.0.3-1) ...\n",
            "Selecting previously unselected package libxkbfile-dev:amd64.\n",
            "Preparing to unpack .../41-libxkbfile-dev_1%3a1.0.9-2_amd64.deb ...\n",
            "Unpacking libxkbfile-dev:amd64 (1:1.0.9-2) ...\n",
            "Selecting previously unselected package libxmuu-dev:amd64.\n",
            "Preparing to unpack .../42-libxmuu-dev_2%3a1.1.2-2_amd64.deb ...\n",
            "Unpacking libxmuu-dev:amd64 (2:1.1.2-2) ...\n",
            "Selecting previously unselected package libxres1:amd64.\n",
            "Preparing to unpack .../43-libxres1_2%3a1.2.0-2_amd64.deb ...\n",
            "Unpacking libxres1:amd64 (2:1.2.0-2) ...\n",
            "Selecting previously unselected package x11proto-resource-dev.\n",
            "Preparing to unpack .../44-x11proto-resource-dev_2018.4-4_all.deb ...\n",
            "Unpacking x11proto-resource-dev (2018.4-4) ...\n",
            "Selecting previously unselected package libxres-dev.\n",
            "Preparing to unpack .../45-libxres-dev_2%3a1.2.0-2_amd64.deb ...\n",
            "Unpacking libxres-dev (2:1.2.0-2) ...\n",
            "Selecting previously unselected package x11proto-record-dev.\n",
            "Preparing to unpack .../46-x11proto-record-dev_2018.4-4_all.deb ...\n",
            "Unpacking x11proto-record-dev (2018.4-4) ...\n",
            "Selecting previously unselected package libxtst-dev:amd64.\n",
            "Preparing to unpack .../47-libxtst-dev_2%3a1.2.3-1_amd64.deb ...\n",
            "Unpacking libxtst-dev:amd64 (2:1.2.3-1) ...\n",
            "Selecting previously unselected package libxvmc1:amd64.\n",
            "Preparing to unpack .../48-libxvmc1_2%3a1.0.10-1_amd64.deb ...\n",
            "Unpacking libxvmc1:amd64 (2:1.0.10-1) ...\n",
            "Selecting previously unselected package libxvmc-dev:amd64.\n",
            "Preparing to unpack .../49-libxvmc-dev_2%3a1.0.10-1_amd64.deb ...\n",
            "Unpacking libxvmc-dev:amd64 (2:1.0.10-1) ...\n",
            "Selecting previously unselected package x11proto-xf86dga-dev.\n",
            "Preparing to unpack .../50-x11proto-xf86dga-dev_2018.4-4_all.deb ...\n",
            "Unpacking x11proto-xf86dga-dev (2018.4-4) ...\n",
            "Selecting previously unselected package libxxf86dga-dev:amd64.\n",
            "Preparing to unpack .../51-libxxf86dga-dev_2%3a1.1.4-1_amd64.deb ...\n",
            "Unpacking libxxf86dga-dev:amd64 (2:1.1.4-1) ...\n",
            "Selecting previously unselected package mir-client-platform-mesa-dev:amd64.\n",
            "Preparing to unpack .../52-mir-client-platform-mesa-dev_0.31.1-0ubuntu1_amd64.deb ...\n",
            "Unpacking mir-client-platform-mesa-dev:amd64 (0.31.1-0ubuntu1) ...\n",
            "Selecting previously unselected package python-opengl.\n",
            "Preparing to unpack .../53-python-opengl_3.1.0+dfsg-1_all.deb ...\n",
            "Unpacking python-opengl (3.1.0+dfsg-1) ...\n",
            "Selecting previously unselected package swig3.0.\n",
            "Preparing to unpack .../54-swig3.0_3.0.12-1_amd64.deb ...\n",
            "Unpacking swig3.0 (3.0.12-1) ...\n",
            "Selecting previously unselected package swig.\n",
            "Preparing to unpack .../55-swig_3.0.12-1_amd64.deb ...\n",
            "Unpacking swig (3.0.12-1) ...\n",
            "Selecting previously unselected package x11proto-dri2-dev.\n",
            "Preparing to unpack .../56-x11proto-dri2-dev_2018.4-4_all.deb ...\n",
            "Unpacking x11proto-dri2-dev (2018.4-4) ...\n",
            "Selecting previously unselected package x11proto-gl-dev.\n",
            "Preparing to unpack .../57-x11proto-gl-dev_2018.4-4_all.deb ...\n",
            "Unpacking x11proto-gl-dev (2018.4-4) ...\n",
            "Selecting previously unselected package x11proto-render-dev.\n",
            "Preparing to unpack .../58-x11proto-render-dev_2%3a2018.4-4_all.deb ...\n",
            "Unpacking x11proto-render-dev (2:2018.4-4) ...\n",
            "Selecting previously unselected package x11proto-xf86bigfont-dev.\n",
            "Preparing to unpack .../59-x11proto-xf86bigfont-dev_2018.4-4_all.deb ...\n",
            "Unpacking x11proto-xf86bigfont-dev (2018.4-4) ...\n",
            "Selecting previously unselected package libpciaccess-dev:amd64.\n",
            "Preparing to unpack .../60-libpciaccess-dev_0.14-1_amd64.deb ...\n",
            "Unpacking libpciaccess-dev:amd64 (0.14-1) ...\n",
            "Selecting previously unselected package xserver-xorg-dev.\n",
            "Preparing to unpack .../61-xserver-xorg-dev_2%3a1.19.6-1ubuntu4.9_amd64.deb ...\n",
            "Unpacking xserver-xorg-dev (2:1.19.6-1ubuntu4.9) ...\n",
            "Selecting previously unselected package xorg-dev.\n",
            "Preparing to unpack .../62-xorg-dev_1%3a7.7+19ubuntu7.1_all.deb ...\n",
            "Unpacking xorg-dev (1:7.7+19ubuntu7.1) ...\n",
            "Selecting previously unselected package xvfb.\n",
            "Preparing to unpack .../63-xvfb_2%3a1.19.6-1ubuntu4.9_amd64.deb ...\n",
            "Unpacking xvfb (2:1.19.6-1ubuntu4.9) ...\n",
            "Setting up x11proto-fonts-dev (2018.4-4) ...\n",
            "Setting up x11proto-dri2-dev (2018.4-4) ...\n",
            "Setting up libdbus-1-dev:amd64 (1.12.2-1ubuntu1.2) ...\n",
            "Setting up libxcursor-dev:amd64 (1:1.1.15-1) ...\n",
            "Setting up libxkbcommon-dev:amd64 (0.8.2-1~ubuntu18.04.1) ...\n",
            "Setting up libpulse-mainloop-glib0:amd64 (1:11.1-1ubuntu7.11) ...\n",
            "Setting up libpulse-dev:amd64 (1:11.1-1ubuntu7.11) ...\n",
            "Setting up python-opengl (3.1.0+dfsg-1) ...\n",
            "Setting up swig3.0 (3.0.12-1) ...\n",
            "Setting up libpciaccess-dev:amd64 (0.14-1) ...\n",
            "Setting up libmircore-dev:amd64 (0.31.1-0ubuntu1) ...\n",
            "Setting up libxres1:amd64 (2:1.2.0-2) ...\n",
            "Setting up xvfb (2:1.19.6-1ubuntu4.9) ...\n",
            "Setting up libxpm-dev:amd64 (1:3.5.12-1) ...\n",
            "Setting up libsndio-dev:amd64 (1.1.0-3) ...\n",
            "Setting up libxres-dev (2:1.2.0-2) ...\n",
            "Setting up x11proto-xf86bigfont-dev (2018.4-4) ...\n",
            "Setting up libxkbfile-dev:amd64 (1:1.0.9-2) ...\n",
            "Setting up libxvmc1:amd64 (2:1.0.10-1) ...\n",
            "Setting up libxmuu-dev:amd64 (2:1.1.2-2) ...\n",
            "Setting up x11proto-record-dev (2018.4-4) ...\n",
            "Setting up libxtst-dev:amd64 (2:1.2.3-1) ...\n",
            "Setting up libmircookie2:amd64 (0.31.1-0ubuntu1) ...\n",
            "Setting up libfontenc-dev:amd64 (1:1.1.3-1) ...\n",
            "Setting up libxxf86dga1:amd64 (2:1.1.4-1) ...\n",
            "Setting up x11proto-xinerama-dev (2018.4-4) ...\n",
            "Setting up libpixman-1-dev:amd64 (0.34.0-2) ...\n",
            "Setting up x11proto-randr-dev (2018.4-4) ...\n",
            "Setting up libxinerama-dev:amd64 (2:1.1.3-1) ...\n",
            "Setting up x11proto-gl-dev (2018.4-4) ...\n",
            "Setting up libxv-dev:amd64 (2:1.0.11-1) ...\n",
            "Setting up libcapnp-0.6.1:amd64 (0.6.1-1ubuntu1) ...\n",
            "Setting up x11proto-resource-dev (2018.4-4) ...\n",
            "Setting up x11proto-xf86dga-dev (2018.4-4) ...\n",
            "Setting up libfs6:amd64 (2:1.0.7-1) ...\n",
            "Setting up libxxf86dga-dev:amd64 (2:1.1.4-1) ...\n",
            "Setting up libibus-1.0-5:amd64 (1.5.17-3ubuntu5.3) ...\n",
            "Setting up libdmx1:amd64 (1:1.1.3-1) ...\n",
            "Setting up x11proto-render-dev (2:2018.4-4) ...\n",
            "Setting up libmircore1:amd64 (0.31.1-0ubuntu1) ...\n",
            "Setting up libprotobuf-lite10:amd64 (3.0.0-9.1ubuntu1) ...\n",
            "Setting up libudev-dev:amd64 (237-3ubuntu10.52) ...\n",
            "Setting up x11proto-composite-dev (1:2018.4-4) ...\n",
            "Setting up gir1.2-ibus-1.0:amd64 (1.5.17-3ubuntu5.3) ...\n",
            "Setting up swig (3.0.12-1) ...\n",
            "Setting up libxrandr-dev:amd64 (2:1.5.1-1) ...\n",
            "Setting up libxcomposite-dev:amd64 (1:0.4.4-2) ...\n",
            "Setting up libxaw7-dev:amd64 (2:1.0.13-1) ...\n",
            "Setting up libmirprotobuf3:amd64 (0.31.1-0ubuntu1) ...\n",
            "Setting up libdmx-dev:amd64 (1:1.1.3-1) ...\n",
            "Setting up libprotobuf-dev:amd64 (3.0.0-9.1ubuntu1) ...\n",
            "Setting up libxvmc-dev:amd64 (2:1.0.10-1) ...\n",
            "Setting up libmircookie-dev:amd64 (0.31.1-0ubuntu1) ...\n",
            "Setting up libxfont-dev (1:2.0.3-1) ...\n",
            "Setting up libibus-1.0-dev:amd64 (1.5.17-3ubuntu5.3) ...\n",
            "Setting up libfs-dev:amd64 (2:1.0.7-1) ...\n",
            "Setting up libmircommon7:amd64 (0.31.1-0ubuntu1) ...\n",
            "Setting up libmirclient9:amd64 (0.31.1-0ubuntu1) ...\n",
            "Setting up libmircommon-dev:amd64 (0.31.1-0ubuntu1) ...\n",
            "Setting up libmirclient-dev:amd64 (0.31.1-0ubuntu1) ...\n",
            "Setting up libsdl2-dev:amd64 (2.0.8+dfsg1-1ubuntu1.18.04.4) ...\n",
            "Setting up mir-client-platform-mesa-dev:amd64 (0.31.1-0ubuntu1) ...\n",
            "Setting up xserver-xorg-dev (2:1.19.6-1ubuntu4.9) ...\n",
            "Setting up xorg-dev (1:7.7+19ubuntu7.1) ...\n",
            "Processing triggers for man-db (2.8.3-2ubuntu0.1) ...\n",
            "Processing triggers for libc-bin (2.27-3ubuntu1.3) ...\n",
            "/sbin/ldconfig.real: /usr/local/lib/python3.7/dist-packages/ideep4py/lib/libmkldnn.so.0 is not a symbolic link\n",
            "\n"
          ]
        }
      ]
    },
    {
      "cell_type": "code",
      "metadata": {
        "colab": {
          "base_uri": "https://localhost:8080/"
        },
        "id": "24sfn7iAf6TA",
        "outputId": "83aa595d-27dd-4fc6-ae70-95d48edeb7d7"
      },
      "source": [
        "!pip install pyvirtualdisplay\n",
        "!pip install piglet"
      ],
      "execution_count": null,
      "outputs": [
        {
          "output_type": "stream",
          "name": "stdout",
          "text": [
            "Collecting pyvirtualdisplay\n",
            "  Downloading PyVirtualDisplay-2.2-py3-none-any.whl (15 kB)\n",
            "Collecting EasyProcess\n",
            "  Downloading EasyProcess-0.3-py2.py3-none-any.whl (7.9 kB)\n",
            "Installing collected packages: EasyProcess, pyvirtualdisplay\n",
            "Successfully installed EasyProcess-0.3 pyvirtualdisplay-2.2\n",
            "Collecting piglet\n",
            "  Downloading piglet-1.0.0-py2.py3-none-any.whl (2.2 kB)\n",
            "Collecting piglet-templates\n",
            "  Downloading piglet_templates-1.2.0-py3-none-any.whl (67 kB)\n",
            "\u001b[K     |████████████████████████████████| 67 kB 3.0 MB/s \n",
            "\u001b[?25hRequirement already satisfied: attrs in /usr/local/lib/python3.7/dist-packages (from piglet-templates->piglet) (21.2.0)\n",
            "Requirement already satisfied: astunparse in /usr/local/lib/python3.7/dist-packages (from piglet-templates->piglet) (1.6.3)\n",
            "Requirement already satisfied: markupsafe in /usr/local/lib/python3.7/dist-packages (from piglet-templates->piglet) (2.0.1)\n",
            "Requirement already satisfied: pyparsing in /usr/local/lib/python3.7/dist-packages (from piglet-templates->piglet) (3.0.6)\n",
            "Requirement already satisfied: six<2.0,>=1.6.1 in /usr/local/lib/python3.7/dist-packages (from astunparse->piglet-templates->piglet) (1.15.0)\n",
            "Requirement already satisfied: wheel<1.0,>=0.23.0 in /usr/local/lib/python3.7/dist-packages (from astunparse->piglet-templates->piglet) (0.37.0)\n",
            "Installing collected packages: piglet-templates, piglet\n",
            "Successfully installed piglet-1.0.0 piglet-templates-1.2.0\n"
          ]
        }
      ]
    },
    {
      "cell_type": "code",
      "metadata": {
        "colab": {
          "base_uri": "https://localhost:8080/"
        },
        "id": "bviiS7CygBcv",
        "outputId": "e9f16628-7af9-48d8-d55d-62acd7d57834"
      },
      "source": [
        "from pyvirtualdisplay import Display\n",
        "display = Display(visible=0, size=(1400, 900))\n",
        "display.start()"
      ],
      "execution_count": null,
      "outputs": [
        {
          "output_type": "execute_result",
          "data": {
            "text/plain": [
              "<pyvirtualdisplay.display.Display at 0x7f82fb22f310>"
            ]
          },
          "metadata": {},
          "execution_count": 5
        }
      ]
    },
    {
      "cell_type": "code",
      "metadata": {
        "id": "Tz6yCRxsfCfT"
      },
      "source": [
        "import numpy as np\n",
        "import tensorflow as tf\n",
        "import gym\n",
        "from gym.wrappers import Monitor\n",
        "import matplotlib.pyplot as plt\n",
        "from glob import glob\n",
        "from base64 import b64encode\n",
        "from IPython.display import HTML\n",
        "from IPython import display as ipy_display\n",
        "from gym import logger as gym_logger\n",
        "\n",
        "\n",
        "np.random.seed(1)\n",
        "tf.random.set_seed(1)"
      ],
      "execution_count": null,
      "outputs": []
    },
    {
      "cell_type": "code",
      "metadata": {
        "id": "VKtyLmngzvm-"
      },
      "source": [],
      "execution_count": null,
      "outputs": []
    },
    {
      "cell_type": "code",
      "metadata": {
        "id": "3VUk0yvHgQoo"
      },
      "source": [
        "# Deep Q Network off-policy\n",
        "class DeepQNetwork:\n",
        "    def __init__(\n",
        "            self,\n",
        "            n_actions,\n",
        "            n_features,\n",
        "            learning_rate=0.001,\n",
        "            reward_decay=0.9,\n",
        "            e_greedy=0.8,\n",
        "            replace_target_iter=200,\n",
        "            memory_size=3000,\n",
        "            batch_size=32,\n",
        "            e_greedy_increment=0.0002,\n",
        "            output_graph=False,\n",
        "    ):\n",
        "        self.n_actions = n_actions\n",
        "        self.n_features = n_features\n",
        "        self.learning_rate = learning_rate\n",
        "        self.gamma = reward_decay\n",
        "        self.epsilon_max = e_greedy\n",
        "        self.replace_target_iter = replace_target_iter\n",
        "        self.memory_size = memory_size\n",
        "        self.batch_size = batch_size\n",
        "        self.epsilon_increment = e_greedy_increment\n",
        "        self.epsilon = 0 if e_greedy_increment is not None else self.epsilon_max\n",
        "\n",
        "        # total learning step\n",
        "        self.learn_step_counter = 0\n",
        "\n",
        "        # initialize zero memory [s, a, r, s_]\n",
        "        self.memory = np.zeros((self.memory_size, n_features * 2 + 2))\n",
        "\n",
        "        # consist of [target_net, update_net]\n",
        "        self._build_net()\n",
        "\n",
        "        self.sess = tf.Session()\n",
        "        self.sess.run(tf.global_variables_initializer())\n",
        "        self.cost_his = []\n",
        "\n",
        "    def _build_net(self):\n",
        "        # ------------------ build update_net ------------------\n",
        "        self.s = tf.placeholder(shape = [None, self.n_features], name='s')  # input\n",
        "        self.q_target = tf.placeholder(tf.float32, [None, self.n_actions], name='Q_target')  # for calculating loss\n",
        "        n_l1 = 30\n",
        "        with tf.variable_scope('update_net'):\n",
        "            # first layer. collections is used later when assign to target net\n",
        "            with tf.variable_scope('l1'):\n",
        "                w1 = tf.get_variable('w1', [self.n_features, n_l1], \n",
        "                                     initializer=tf.random_normal_initializer(0., 0.3), \n",
        "                                     collections=['update_net_params', tf.GraphKeys.GLOBAL_VARIABLES])\n",
        "                b1 = tf.get_variable('b1', [1, n_l1], \n",
        "                                     initializer=tf.constant_initializer(0.1), \n",
        "                                     collections=['update_net_params', tf.GraphKeys.GLOBAL_VARIABLES])\n",
        "                l1 = tf.nn.relu(tf.matmul(self.s, w1) + b1)\n",
        "\n",
        "            # second layer. collections is used later when assign to target net\n",
        "            with tf.variable_scope('l2'):\n",
        "                w2 = tf.get_variable('w2', [n_l1, self.n_actions], \n",
        "                                     initializer=tf.random_normal_initializer(0., 0.3), \n",
        "                                     collections=['update_net_params', tf.GraphKeys.GLOBAL_VARIABLES])\n",
        "                b2 = tf.get_variable('b2', [1, self.n_actions], \n",
        "                                     initializer=tf.constant_initializer(0.1), \n",
        "                                     collections=['update_net_params', tf.GraphKeys.GLOBAL_VARIABLES])\n",
        "                self.q_update = tf.matmul(l1, w2) + b2\n",
        "\n",
        "        with tf.variable_scope('loss'):\n",
        "            self.loss = tf.reduce_mean(tf.squared_difference(self.q_target, self.q_update))\n",
        "        with tf.variable_scope('train'):\n",
        "            self._train_op = tf.train.AdamOptimizer(self.learning_rate).minimize(self.loss)\n",
        "\n",
        "        # ------------------ build target_net ------------------\n",
        "        self.s_ = tf.placeholder(tf.float32, [None, self.n_features], name='s_')    # input\n",
        "        with tf.variable_scope('target_net'):\n",
        "            # first layer. collections is used later when assign to target net\n",
        "            with tf.variable_scope('l1'):\n",
        "                w1 = tf.get_variable('w1', [self.n_features, n_l1], \n",
        "                                     initializer=tf.random_normal_initializer(0., 0.3),\n",
        "                                     collections=['target_net_params', tf.GraphKeys.GLOBAL_VARIABLES])\n",
        "                b1 = tf.get_variable('b1', [1, n_l1], \n",
        "                                     initializer=tf.constant_initializer(0.1), \n",
        "                                     collections=['target_net_params', tf.GraphKeys.GLOBAL_VARIABLES])\n",
        "                l1 = tf.nn.relu(tf.matmul(self.s_, w1) + b1)\n",
        "\n",
        "            # second layer. collections is used later when assign to target net\n",
        "            with tf.variable_scope('l2'):\n",
        "                w2 = tf.get_variable('w2', [n_l1, self.n_actions], \n",
        "                                     initializer=tf.random_normal_initializer(0., 0.3),\n",
        "                                     collections=['target_net_params', tf.GraphKeys.GLOBAL_VARIABLES])\n",
        "                b2 = tf.get_variable('b2', [1, self.n_actions], \n",
        "                                     initializer=tf.constant_initializer(0.1), \n",
        "                                     collections=['target_net_params', tf.GraphKeys.GLOBAL_VARIABLES])\n",
        "                self.q_next = tf.matmul(l1, w2) + b2\n",
        "\n",
        "    def store_transition(self, s, a, r, s_):\n",
        "        if not hasattr(self, 'memory_counter'):\n",
        "            self.memory_counter = 0\n",
        "\n",
        "        transition = np.hstack((s, [a, r], s_))\n",
        "\n",
        "        # replace the old memory with new memory\n",
        "        index = self.memory_counter % self.memory_size\n",
        "        self.memory[index, :] = transition\n",
        "\n",
        "        self.memory_counter += 1\n",
        "\n",
        "    def choose_action(self, observation):\n",
        "        # to have batch dimension when feed into tf placeholder\n",
        "        observation = observation[np.newaxis, :]\n",
        "\n",
        "        if np.random.uniform() < self.epsilon:\n",
        "            # forward feed the observation and get q value for every actions\n",
        "            actions_value = self.sess.run(self.q_update, feed_dict={self.s: observation})\n",
        "            action = np.argmax(actions_value)\n",
        "        else:\n",
        "            action = np.random.randint(0, self.n_actions)\n",
        "        return action\n",
        "\n",
        "    def _replace_target_params(self):\n",
        "        t_params = tf.get_collection('target_net_params')\n",
        "        u_params = tf.get_collection('update_net_params')\n",
        "        self.sess.run([tf.assign(t, u) for t, u in zip(t_params, u_params)])\n",
        "\n",
        "    def plot_cost(self):\n",
        "        plt.plot(np.arange(len(self.cost_his)), self.cost_his)\n",
        "        plt.ylabel('Cost')\n",
        "        plt.xlabel('training steps')\n",
        "        plt.show()\n",
        "\n",
        "    def learn(self):\n",
        "        # check to replace target parameters\n",
        "        if self.learn_step_counter % self.replace_target_iter == 0:\n",
        "            self._replace_target_params()\n",
        "            #print('\\ntarget_params_replaced\\n')\n",
        "\n",
        "        # sample batch memory from all memory\n",
        "        if self.memory_counter > self.memory_size:\n",
        "            sample_index = np.random.choice(self.memory_size, size=self.batch_size)\n",
        "        else:\n",
        "            sample_index = np.random.choice(self.memory_counter, size=self.batch_size)\n",
        "        batch_memory = self.memory[sample_index, :]\n",
        "\n",
        "        q_next, q_update = self.sess.run([self.q_next, self.q_update], \n",
        "                        feed_dict={self.s_: batch_memory[:, -self.n_features:],  # fixed params\n",
        "                                   self.s: batch_memory[:, :self.n_features]})   # newest params\n",
        "                                    \n",
        "\n",
        "        # change q_target w.r.t q_update's action\n",
        "        q_target = q_update.copy()\n",
        "\n",
        "        batch_index = np.arange(self.batch_size, dtype=np.int32)\n",
        "        update_act_index = batch_memory[:, self.n_features].astype(int)\n",
        "        reward = batch_memory[:, self.n_features + 1]\n",
        "\n",
        "        q_target[batch_index, update_act_index] = reward + self.gamma * np.max(q_next, axis=1)\n",
        "\n",
        "        # train update network\n",
        "        _, self.cost = self.sess.run([self._train_op, self.loss],\n",
        "                                     feed_dict={self.s: batch_memory[:, :self.n_features],\n",
        "                                                self.q_target: q_target})\n",
        "        self.cost_his.append(self.cost)\n",
        "\n",
        "        # increasing epsilon\n",
        "        self.epsilon = self.epsilon + self.epsilon_increment if self.epsilon < self.epsilon_max else self.epsilon_max\n",
        "        self.learn_step_counter += 1"
      ],
      "execution_count": null,
      "outputs": []
    },
    {
      "cell_type": "code",
      "metadata": {
        "id": "9bGm1U4-3KSv"
      },
      "source": [
        "def wrap_env(env):\n",
        "    env = Monitor(env, './video', force=True)\n",
        "    return env"
      ],
      "execution_count": null,
      "outputs": []
    },
    {
      "cell_type": "code",
      "metadata": {
        "id": "h_u6hD66gZDA"
      },
      "source": [
        "env = wrap_env(gym.make('MountainCar-v0'))"
      ],
      "execution_count": null,
      "outputs": []
    },
    {
      "cell_type": "code",
      "metadata": {
        "colab": {
          "base_uri": "https://localhost:8080/"
        },
        "id": "GxZhVxUGgaM_",
        "outputId": "d4918f53-7e1e-4ee7-fb6e-ccb03cf5a16f"
      },
      "source": [
        "print(env.action_space)\n",
        "print(env.observation_space.shape)"
      ],
      "execution_count": null,
      "outputs": [
        {
          "output_type": "stream",
          "name": "stdout",
          "text": [
            "Discrete(3)\n",
            "(2,)\n"
          ]
        }
      ]
    },
    {
      "cell_type": "code",
      "metadata": {
        "id": "YEj3MBvagbBQ",
        "colab": {
          "base_uri": "https://localhost:8080/",
          "height": 382
        },
        "outputId": "d69c70aa-fdb9-49e9-fad2-2cc89966eea4"
      },
      "source": [
        "RL = DeepQNetwork(n_actions=env.action_space.n,\n",
        "                  n_features=env.observation_space.shape[0],\n",
        "                  learning_rate=0.001, \n",
        "                  e_greedy=0.8,\n",
        "                  replace_target_iter=200, \n",
        "                  memory_size=3000,\n",
        "                  e_greedy_increment=0.0002)"
      ],
      "execution_count": null,
      "outputs": [
        {
          "output_type": "error",
          "ename": "AttributeError",
          "evalue": "ignored",
          "traceback": [
            "\u001b[0;31m---------------------------------------------------------------------------\u001b[0m",
            "\u001b[0;31mAttributeError\u001b[0m                            Traceback (most recent call last)",
            "\u001b[0;32m<ipython-input-20-0c30e757e739>\u001b[0m in \u001b[0;36m<module>\u001b[0;34m()\u001b[0m\n\u001b[1;32m      5\u001b[0m                   \u001b[0mreplace_target_iter\u001b[0m\u001b[0;34m=\u001b[0m\u001b[0;36m200\u001b[0m\u001b[0;34m,\u001b[0m\u001b[0;34m\u001b[0m\u001b[0;34m\u001b[0m\u001b[0m\n\u001b[1;32m      6\u001b[0m                   \u001b[0mmemory_size\u001b[0m\u001b[0;34m=\u001b[0m\u001b[0;36m3000\u001b[0m\u001b[0;34m,\u001b[0m\u001b[0;34m\u001b[0m\u001b[0;34m\u001b[0m\u001b[0m\n\u001b[0;32m----> 7\u001b[0;31m                   e_greedy_increment=0.0002)\n\u001b[0m",
            "\u001b[0;32m<ipython-input-13-8313f4ebe1e1>\u001b[0m in \u001b[0;36m__init__\u001b[0;34m(self, n_actions, n_features, learning_rate, reward_decay, e_greedy, replace_target_iter, memory_size, batch_size, e_greedy_increment, output_graph)\u001b[0m\n\u001b[1;32m     32\u001b[0m \u001b[0;34m\u001b[0m\u001b[0m\n\u001b[1;32m     33\u001b[0m         \u001b[0;31m# consist of [target_net, update_net]\u001b[0m\u001b[0;34m\u001b[0m\u001b[0;34m\u001b[0m\u001b[0;34m\u001b[0m\u001b[0m\n\u001b[0;32m---> 34\u001b[0;31m         \u001b[0mself\u001b[0m\u001b[0;34m.\u001b[0m\u001b[0m_build_net\u001b[0m\u001b[0;34m(\u001b[0m\u001b[0;34m)\u001b[0m\u001b[0;34m\u001b[0m\u001b[0;34m\u001b[0m\u001b[0m\n\u001b[0m\u001b[1;32m     35\u001b[0m \u001b[0;34m\u001b[0m\u001b[0m\n\u001b[1;32m     36\u001b[0m         \u001b[0mself\u001b[0m\u001b[0;34m.\u001b[0m\u001b[0msess\u001b[0m \u001b[0;34m=\u001b[0m \u001b[0mtf\u001b[0m\u001b[0;34m.\u001b[0m\u001b[0mSession\u001b[0m\u001b[0;34m(\u001b[0m\u001b[0;34m)\u001b[0m\u001b[0;34m\u001b[0m\u001b[0;34m\u001b[0m\u001b[0m\n",
            "\u001b[0;32m<ipython-input-13-8313f4ebe1e1>\u001b[0m in \u001b[0;36m_build_net\u001b[0;34m(self)\u001b[0m\n\u001b[1;32m     40\u001b[0m     \u001b[0;32mdef\u001b[0m \u001b[0m_build_net\u001b[0m\u001b[0;34m(\u001b[0m\u001b[0mself\u001b[0m\u001b[0;34m)\u001b[0m\u001b[0;34m:\u001b[0m\u001b[0;34m\u001b[0m\u001b[0;34m\u001b[0m\u001b[0m\n\u001b[1;32m     41\u001b[0m         \u001b[0;31m# ------------------ build update_net ------------------\u001b[0m\u001b[0;34m\u001b[0m\u001b[0;34m\u001b[0m\u001b[0;34m\u001b[0m\u001b[0m\n\u001b[0;32m---> 42\u001b[0;31m         \u001b[0mself\u001b[0m\u001b[0;34m.\u001b[0m\u001b[0ms\u001b[0m \u001b[0;34m=\u001b[0m \u001b[0mtf\u001b[0m\u001b[0;34m.\u001b[0m\u001b[0mplaceholder\u001b[0m\u001b[0;34m(\u001b[0m\u001b[0mtf\u001b[0m\u001b[0;34m.\u001b[0m\u001b[0mfloat32\u001b[0m\u001b[0;34m,\u001b[0m \u001b[0;34m[\u001b[0m\u001b[0;32mNone\u001b[0m\u001b[0;34m,\u001b[0m \u001b[0mself\u001b[0m\u001b[0;34m.\u001b[0m\u001b[0mn_features\u001b[0m\u001b[0;34m]\u001b[0m\u001b[0;34m,\u001b[0m \u001b[0mname\u001b[0m\u001b[0;34m=\u001b[0m\u001b[0;34m's'\u001b[0m\u001b[0;34m)\u001b[0m  \u001b[0;31m# input\u001b[0m\u001b[0;34m\u001b[0m\u001b[0;34m\u001b[0m\u001b[0m\n\u001b[0m\u001b[1;32m     43\u001b[0m         \u001b[0mself\u001b[0m\u001b[0;34m.\u001b[0m\u001b[0mq_target\u001b[0m \u001b[0;34m=\u001b[0m \u001b[0mtf\u001b[0m\u001b[0;34m.\u001b[0m\u001b[0mplaceholder\u001b[0m\u001b[0;34m(\u001b[0m\u001b[0mtf\u001b[0m\u001b[0;34m.\u001b[0m\u001b[0mfloat32\u001b[0m\u001b[0;34m,\u001b[0m \u001b[0;34m[\u001b[0m\u001b[0;32mNone\u001b[0m\u001b[0;34m,\u001b[0m \u001b[0mself\u001b[0m\u001b[0;34m.\u001b[0m\u001b[0mn_actions\u001b[0m\u001b[0;34m]\u001b[0m\u001b[0;34m,\u001b[0m \u001b[0mname\u001b[0m\u001b[0;34m=\u001b[0m\u001b[0;34m'Q_target'\u001b[0m\u001b[0;34m)\u001b[0m  \u001b[0;31m# for calculating loss\u001b[0m\u001b[0;34m\u001b[0m\u001b[0;34m\u001b[0m\u001b[0m\n\u001b[1;32m     44\u001b[0m         \u001b[0mn_l1\u001b[0m \u001b[0;34m=\u001b[0m \u001b[0;36m30\u001b[0m\u001b[0;34m\u001b[0m\u001b[0;34m\u001b[0m\u001b[0m\n",
            "\u001b[0;31mAttributeError\u001b[0m: module 'tensorflow' has no attribute 'placeholder'"
          ]
        }
      ]
    },
    {
      "cell_type": "code",
      "metadata": {
        "id": "61LdsbeCgeJf"
      },
      "source": [
        "total_steps = 0"
      ],
      "execution_count": null,
      "outputs": []
    },
    {
      "cell_type": "code",
      "metadata": {
        "colab": {
          "base_uri": "https://localhost:8080/",
          "height": 248
        },
        "id": "Rfn6IlrtghVP",
        "outputId": "fd02cb05-289a-4218-957e-13e225bd9463"
      },
      "source": [
        "for episode in range(100):\n",
        "\n",
        "    observation = env.reset()\n",
        "    ep_r = 0\n",
        "    while True:\n",
        "        env.render()\n",
        "\n",
        "        action = RL.choose_action(observation)\n",
        "\n",
        "        observation_, reward, done, info = env.step(action)\n",
        "\n",
        "        # the smaller theta and closer to center the better\n",
        "        x, dx, theta, dtheta = observation_\n",
        "        r1 = (env.x_threshold - abs(x))/env.x_threshold +0.5\n",
        "        r2 = (env.theta_threshold_radians - abs(theta))/env.theta_threshold_radians + 0.5\n",
        "        reward = r1 + r2\n",
        "\n",
        "        RL.store_transition(observation, action, reward, observation_)\n",
        "\n",
        "        ep_r += reward\n",
        "        if total_steps > 500:\n",
        "            RL.learn()\n",
        "\n",
        "        if done:\n",
        "            print('episode: ', episode,\n",
        "                  ' reward: ', round(ep_r, 2),\n",
        "                  ' epsilon: ', round(RL.epsilon, 2))\n",
        "            break\n",
        "\n",
        "        observation = observation_\n",
        "        total_steps += 1\n",
        "\n",
        "env.close()"
      ],
      "execution_count": null,
      "outputs": [
        {
          "output_type": "error",
          "ename": "NameError",
          "evalue": "ignored",
          "traceback": [
            "\u001b[0;31m---------------------------------------------------------------------------\u001b[0m",
            "\u001b[0;31mNameError\u001b[0m                                 Traceback (most recent call last)",
            "\u001b[0;32m<ipython-input-14-9ac2943b1336>\u001b[0m in \u001b[0;36m<module>\u001b[0;34m()\u001b[0m\n\u001b[1;32m      1\u001b[0m \u001b[0;32mfor\u001b[0m \u001b[0mepisode\u001b[0m \u001b[0;32min\u001b[0m \u001b[0mrange\u001b[0m\u001b[0;34m(\u001b[0m\u001b[0;36m100\u001b[0m\u001b[0;34m)\u001b[0m\u001b[0;34m:\u001b[0m\u001b[0;34m\u001b[0m\u001b[0;34m\u001b[0m\u001b[0m\n\u001b[1;32m      2\u001b[0m \u001b[0;34m\u001b[0m\u001b[0m\n\u001b[0;32m----> 3\u001b[0;31m     \u001b[0mobservation\u001b[0m \u001b[0;34m=\u001b[0m \u001b[0menv\u001b[0m\u001b[0;34m.\u001b[0m\u001b[0mreset\u001b[0m\u001b[0;34m(\u001b[0m\u001b[0;34m)\u001b[0m\u001b[0;34m\u001b[0m\u001b[0;34m\u001b[0m\u001b[0m\n\u001b[0m\u001b[1;32m      4\u001b[0m     \u001b[0mep_r\u001b[0m \u001b[0;34m=\u001b[0m \u001b[0;36m0\u001b[0m\u001b[0;34m\u001b[0m\u001b[0;34m\u001b[0m\u001b[0m\n\u001b[1;32m      5\u001b[0m     \u001b[0;32mwhile\u001b[0m \u001b[0;32mTrue\u001b[0m\u001b[0;34m:\u001b[0m\u001b[0;34m\u001b[0m\u001b[0;34m\u001b[0m\u001b[0m\n",
            "\u001b[0;31mNameError\u001b[0m: name 'env' is not defined"
          ]
        }
      ]
    },
    {
      "cell_type": "code",
      "metadata": {
        "id": "oaNySg9G2eNY"
      },
      "source": [
        "def show_video():\n",
        "    mp4_list = glob('video/*.mp4')\n",
        "    print(mp4_list)\n",
        "    if mp4_list:\n",
        "        mp4 = mp4_list[0]\n",
        "        video = open(mp4, 'r+b').read()\n",
        "        encoded = b64encode(video)\n",
        "        ipy_display.display(HTML(data='''\n",
        "            <video alt=\"gameplay\" autoplay controls style=\"height: 400px;\">\n",
        "                <source src=\"data:video/mp4;base64,%s\" type=\"video/mp4\" />\n",
        "            </video>\n",
        "        ''' % (encoded.decode('ascii'))))\n",
        "    else:\n",
        "        print('No video found')"
      ],
      "execution_count": null,
      "outputs": []
    },
    {
      "cell_type": "code",
      "metadata": {
        "colab": {
          "base_uri": "https://localhost:8080/",
          "height": 458
        },
        "id": "vp_6578fiikx",
        "outputId": "ad42523b-ec54-463d-f646-7f7c8ae4de9e"
      },
      "source": [
        "show_video()"
      ],
      "execution_count": null,
      "outputs": [
        {
          "output_type": "stream",
          "name": "stdout",
          "text": [
            "['video/openaigym.video.0.71.video000064.mp4', 'video/openaigym.video.0.71.video000008.mp4', 'video/openaigym.video.0.71.video000027.mp4', 'video/openaigym.video.0.71.video000000.mp4', 'video/openaigym.video.0.71.video000001.mp4']\n"
          ]
        },
        {
          "output_type": "display_data",
          "data": {
            "text/html": [
              "\n",
              "            <video alt=\"gameplay\" autoplay controls style=\"height: 400px;\">\n",
              "                <source src=\"data:video/mp4;base64,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\" type=\"video/mp4\" />\n",
              "            </video>\n",
              "        "
            ],
            "text/plain": [
              "<IPython.core.display.HTML object>"
            ]
          },
          "metadata": {}
        }
      ]
    },
    {
      "cell_type": "code",
      "metadata": {
        "colab": {
          "base_uri": "https://localhost:8080/",
          "height": 279
        },
        "id": "04_Wv1Ap29GX",
        "outputId": "da3b2a27-67e5-4e42-fa2c-d456a5148f18"
      },
      "source": [
        "RL.plot_cost()"
      ],
      "execution_count": null,
      "outputs": [
        {
          "output_type": "display_data",
          "data": {
            "image/png": "[encoded data removed]",
            "text/plain": [
              "<Figure size 432x288 with 1 Axes>"
            ]
          },
          "metadata": {
            "needs_background": "light"
          }
        }
      ]
    },
    {
      "cell_type": "code",
      "metadata": {
        "id": "sAujhKLW6O-z"
      },
      "source": [],
      "execution_count": null,
      "outputs": []
    }
  ]
}