{
  "nbformat": 4,
  "nbformat_minor": 0,
  "metadata": {
    "accelerator": "GPU",
    "colab": {
      "name": "Fine Dust Drone_Training.ipynb",
      "provenance": [],
      "collapsed_sections": []
    },
    "kernelspec": {
      "display_name": "Python 3 (ipykernel)",
      "language": "python",
      "name": "python3"
    },
    "language_info": {
      "codemirror_mode": {
        "name": "ipython",
        "version": 3
      },
      "file_extension": ".py",
      "mimetype": "text/x-python",
      "name": "python",
      "nbconvert_exporter": "python",
      "pygments_lexer": "ipython3",
      "version": "3.8.2"
    }
  },
  "cells": [
    {
      "cell_type": "code",
      "metadata": {
        "ExecuteTime": {
          "end_time": "2021-11-10T14:01:16.890032Z",
          "start_time": "2021-11-10T14:01:16.886915Z"
        },
        "colab": {
          "base_uri": "https://localhost:8080/"
        },
        "id": "LLzMPm014mVL",
        "scrolled": true,
        "outputId": "8ed5a7b1-8059-4333-f1bd-e59bf027bd7a"
      },
      "source": [
        "%tensorflow_version 1.x"
      ],
      "execution_count": 1,
      "outputs": [
        {
          "output_type": "stream",
          "name": "stdout",
          "text": [
            "TensorFlow 1.x selected.\n"
          ]
        }
      ]
    },
    {
      "cell_type": "code",
      "metadata": {
        "ExecuteTime": {
          "end_time": "2021-11-10T14:01:23.012670Z",
          "start_time": "2021-11-10T14:01:17.887475Z"
        },
        "id": "P3siTLJG4m6-"
      },
      "source": [
        "%matplotlib inline\n",
        "from IPython.core.display import clear_output, display\n",
        "import tensorflow as tf\n",
        "import numpy as np\n",
        "import pandas as pd\n",
        "import matplotlib.pyplot as plt\n",
        "import time\n",
        "from sklearn.preprocessing import MinMaxScaler"
      ],
      "execution_count": 2,
      "outputs": []
    },
    {
      "cell_type": "markdown",
      "metadata": {
        "id": "bImLFnEo4qR8"
      },
      "source": [
        "Google Drive Mount"
      ]
    },
    {
      "cell_type": "code",
      "metadata": {
        "id": "4DmvCqQN4oKK",
        "colab": {
          "base_uri": "https://localhost:8080/"
        },
        "outputId": "f031b1d5-f86f-49e6-89e0-4414ec8964f2"
      },
      "source": [
        "from google.colab import drive\n",
        "drive.mount('/content/drive')"
      ],
      "execution_count": 3,
      "outputs": [
        {
          "output_type": "stream",
          "name": "stdout",
          "text": [
            "Drive already mounted at /content/drive; to attempt to forcibly remount, call drive.mount(\"/content/drive\", force_remount=True).\n"
          ]
        }
      ]
    },
    {
      "cell_type": "markdown",
      "metadata": {
        "id": "JEKkDQWm4y6U"
      },
      "source": [
        "Load Dataset"
      ]
    },
    {
      "cell_type": "code",
      "metadata": {
        "ExecuteTime": {
          "end_time": "2021-11-10T14:01:36.147959Z",
          "start_time": "2021-11-10T14:01:36.145650Z"
        },
        "id": "vLetgO5c5fqT"
      },
      "source": [
        "filename = '/content/drive/MyDrive/training/train_finedust_real_gen_1143.csv'"
      ],
      "execution_count": 4,
      "outputs": []
    },
    {
      "cell_type": "code",
      "metadata": {
        "ExecuteTime": {
          "end_time": "2021-11-10T14:01:36.951049Z",
          "start_time": "2021-11-10T14:01:36.927024Z"
        },
        "colab": {
          "base_uri": "https://localhost:8080/",
          "height": 419
        },
        "id": "nfWJWEHW4p5b",
        "outputId": "3c2460d3-325e-499e-dacd-28d01466c6cd"
      },
      "source": [
        "df_data = pd.read_csv(filename)\n",
        "df_data"
      ],
      "execution_count": 5,
      "outputs": [
        {
          "output_type": "execute_result",
          "data": {
            "text/html": [
              "<div>\n",
              "<style scoped>\n",
              "    .dataframe tbody tr th:only-of-type {\n",
              "        vertical-align: middle;\n",
              "    }\n",
              "\n",
              "    .dataframe tbody tr th {\n",
              "        vertical-align: top;\n",
              "    }\n",
              "\n",
              "    .dataframe thead th {\n",
              "        text-align: right;\n",
              "    }\n",
              "</style>\n",
              "<table border=\"1\" class=\"dataframe\">\n",
              "  <thead>\n",
              "    <tr style=\"text-align: right;\">\n",
              "      <th></th>\n",
              "      <th>date</th>\n",
              "      <th>ground_pm</th>\n",
              "      <th>ground_temper</th>\n",
              "      <th>avg_pm</th>\n",
              "      <th>avg_temper</th>\n",
              "      <th>wind</th>\n",
              "      <th>humid</th>\n",
              "      <th>max_height</th>\n",
              "    </tr>\n",
              "  </thead>\n",
              "  <tbody>\n",
              "    <tr>\n",
              "      <th>0</th>\n",
              "      <td>NaN</td>\n",
              "      <td>5.769822</td>\n",
              "      <td>0.691519</td>\n",
              "      <td>1</td>\n",
              "      <td>1.1</td>\n",
              "      <td>0.3</td>\n",
              "      <td>90</td>\n",
              "      <td>39.5</td>\n",
              "    </tr>\n",
              "    <tr>\n",
              "      <th>1</th>\n",
              "      <td>NaN</td>\n",
              "      <td>3.918659</td>\n",
              "      <td>0.944229</td>\n",
              "      <td>1</td>\n",
              "      <td>1.1</td>\n",
              "      <td>0.3</td>\n",
              "      <td>90</td>\n",
              "      <td>17.2</td>\n",
              "    </tr>\n",
              "    <tr>\n",
              "      <th>2</th>\n",
              "      <td>NaN</td>\n",
              "      <td>-0.913783</td>\n",
              "      <td>0.676092</td>\n",
              "      <td>1</td>\n",
              "      <td>1.1</td>\n",
              "      <td>0.3</td>\n",
              "      <td>90</td>\n",
              "      <td>26.3</td>\n",
              "    </tr>\n",
              "    <tr>\n",
              "      <th>3</th>\n",
              "      <td>NaN</td>\n",
              "      <td>0.415542</td>\n",
              "      <td>1.342938</td>\n",
              "      <td>1</td>\n",
              "      <td>1.1</td>\n",
              "      <td>0.3</td>\n",
              "      <td>90</td>\n",
              "      <td>39.8</td>\n",
              "    </tr>\n",
              "    <tr>\n",
              "      <th>4</th>\n",
              "      <td>NaN</td>\n",
              "      <td>-1.717684</td>\n",
              "      <td>1.455120</td>\n",
              "      <td>1</td>\n",
              "      <td>1.1</td>\n",
              "      <td>0.3</td>\n",
              "      <td>90</td>\n",
              "      <td>24.4</td>\n",
              "    </tr>\n",
              "    <tr>\n",
              "      <th>...</th>\n",
              "      <td>...</td>\n",
              "      <td>...</td>\n",
              "      <td>...</td>\n",
              "      <td>...</td>\n",
              "      <td>...</td>\n",
              "      <td>...</td>\n",
              "      <td>...</td>\n",
              "      <td>...</td>\n",
              "    </tr>\n",
              "    <tr>\n",
              "      <th>1138</th>\n",
              "      <td>NaN</td>\n",
              "      <td>26.437096</td>\n",
              "      <td>16.725000</td>\n",
              "      <td>34</td>\n",
              "      <td>16.0</td>\n",
              "      <td>2.5</td>\n",
              "      <td>74</td>\n",
              "      <td>37.5</td>\n",
              "    </tr>\n",
              "    <tr>\n",
              "      <th>1139</th>\n",
              "      <td>NaN</td>\n",
              "      <td>24.518182</td>\n",
              "      <td>16.700000</td>\n",
              "      <td>34</td>\n",
              "      <td>16.0</td>\n",
              "      <td>2.5</td>\n",
              "      <td>74</td>\n",
              "      <td>22.5</td>\n",
              "    </tr>\n",
              "    <tr>\n",
              "      <th>1140</th>\n",
              "      <td>NaN</td>\n",
              "      <td>21.774078</td>\n",
              "      <td>16.574031</td>\n",
              "      <td>34</td>\n",
              "      <td>16.0</td>\n",
              "      <td>2.5</td>\n",
              "      <td>74</td>\n",
              "      <td>5.0</td>\n",
              "    </tr>\n",
              "    <tr>\n",
              "      <th>1141</th>\n",
              "      <td>NaN</td>\n",
              "      <td>17.890490</td>\n",
              "      <td>15.796070</td>\n",
              "      <td>34</td>\n",
              "      <td>16.0</td>\n",
              "      <td>2.5</td>\n",
              "      <td>74</td>\n",
              "      <td>7.5</td>\n",
              "    </tr>\n",
              "    <tr>\n",
              "      <th>1142</th>\n",
              "      <td>NaN</td>\n",
              "      <td>20.665909</td>\n",
              "      <td>16.372727</td>\n",
              "      <td>37</td>\n",
              "      <td>16.0</td>\n",
              "      <td>1.8</td>\n",
              "      <td>72</td>\n",
              "      <td>7.5</td>\n",
              "    </tr>\n",
              "  </tbody>\n",
              "</table>\n",
              "<p>1143 rows × 8 columns</p>\n",
              "</div>"
            ],
            "text/plain": [
              "      date  ground_pm  ground_temper  ...  wind  humid  max_height\n",
              "0      NaN   5.769822       0.691519  ...   0.3     90        39.5\n",
              "1      NaN   3.918659       0.944229  ...   0.3     90        17.2\n",
              "2      NaN  -0.913783       0.676092  ...   0.3     90        26.3\n",
              "3      NaN   0.415542       1.342938  ...   0.3     90        39.8\n",
              "4      NaN  -1.717684       1.455120  ...   0.3     90        24.4\n",
              "...    ...        ...            ...  ...   ...    ...         ...\n",
              "1138   NaN  26.437096      16.725000  ...   2.5     74        37.5\n",
              "1139   NaN  24.518182      16.700000  ...   2.5     74        22.5\n",
              "1140   NaN  21.774078      16.574031  ...   2.5     74         5.0\n",
              "1141   NaN  17.890490      15.796070  ...   2.5     74         7.5\n",
              "1142   NaN  20.665909      16.372727  ...   1.8     72         7.5\n",
              "\n",
              "[1143 rows x 8 columns]"
            ]
          },
          "metadata": {},
          "execution_count": 5
        }
      ]
    },
    {
      "cell_type": "markdown",
      "metadata": {
        "id": "-2NVNLk05xSc"
      },
      "source": [
        "Training Data"
      ]
    },
    {
      "cell_type": "code",
      "metadata": {
        "ExecuteTime": {
          "end_time": "2021-11-10T14:01:41.382217Z",
          "start_time": "2021-11-10T14:01:41.378362Z"
        },
        "id": "xwgLzsZs5IA9"
      },
      "source": [
        "df_train = df_data[[\"ground_pm\", \"ground_temper\", \"avg_pm\", \"avg_temper\", \"wind\", \"humid\"]]"
      ],
      "execution_count": 6,
      "outputs": []
    },
    {
      "cell_type": "code",
      "metadata": {
        "ExecuteTime": {
          "end_time": "2021-11-10T14:01:41.704799Z",
          "start_time": "2021-11-10T14:01:41.693170Z"
        },
        "id": "DvxDtvPg7VHd",
        "colab": {
          "base_uri": "https://localhost:8080/",
          "height": 419
        },
        "outputId": "fe0e1ec0-c624-4aa6-9e01-2b7ced5c29a5"
      },
      "source": [
        "df_train"
      ],
      "execution_count": 7,
      "outputs": [
        {
          "output_type": "execute_result",
          "data": {
            "text/html": [
              "<div>\n",
              "<style scoped>\n",
              "    .dataframe tbody tr th:only-of-type {\n",
              "        vertical-align: middle;\n",
              "    }\n",
              "\n",
              "    .dataframe tbody tr th {\n",
              "        vertical-align: top;\n",
              "    }\n",
              "\n",
              "    .dataframe thead th {\n",
              "        text-align: right;\n",
              "    }\n",
              "</style>\n",
              "<table border=\"1\" class=\"dataframe\">\n",
              "  <thead>\n",
              "    <tr style=\"text-align: right;\">\n",
              "      <th></th>\n",
              "      <th>ground_pm</th>\n",
              "      <th>ground_temper</th>\n",
              "      <th>avg_pm</th>\n",
              "      <th>avg_temper</th>\n",
              "      <th>wind</th>\n",
              "      <th>humid</th>\n",
              "    </tr>\n",
              "  </thead>\n",
              "  <tbody>\n",
              "    <tr>\n",
              "      <th>0</th>\n",
              "      <td>5.769822</td>\n",
              "      <td>0.691519</td>\n",
              "      <td>1</td>\n",
              "      <td>1.1</td>\n",
              "      <td>0.3</td>\n",
              "      <td>90</td>\n",
              "    </tr>\n",
              "    <tr>\n",
              "      <th>1</th>\n",
              "      <td>3.918659</td>\n",
              "      <td>0.944229</td>\n",
              "      <td>1</td>\n",
              "      <td>1.1</td>\n",
              "      <td>0.3</td>\n",
              "      <td>90</td>\n",
              "    </tr>\n",
              "    <tr>\n",
              "      <th>2</th>\n",
              "      <td>-0.913783</td>\n",
              "      <td>0.676092</td>\n",
              "      <td>1</td>\n",
              "      <td>1.1</td>\n",
              "      <td>0.3</td>\n",
              "      <td>90</td>\n",
              "    </tr>\n",
              "    <tr>\n",
              "      <th>3</th>\n",
              "      <td>0.415542</td>\n",
              "      <td>1.342938</td>\n",
              "      <td>1</td>\n",
              "      <td>1.1</td>\n",
              "      <td>0.3</td>\n",
              "      <td>90</td>\n",
              "    </tr>\n",
              "    <tr>\n",
              "      <th>4</th>\n",
              "      <td>-1.717684</td>\n",
              "      <td>1.455120</td>\n",
              "      <td>1</td>\n",
              "      <td>1.1</td>\n",
              "      <td>0.3</td>\n",
              "      <td>90</td>\n",
              "    </tr>\n",
              "    <tr>\n",
              "      <th>...</th>\n",
              "      <td>...</td>\n",
              "      <td>...</td>\n",
              "      <td>...</td>\n",
              "      <td>...</td>\n",
              "      <td>...</td>\n",
              "      <td>...</td>\n",
              "    </tr>\n",
              "    <tr>\n",
              "      <th>1138</th>\n",
              "      <td>26.437096</td>\n",
              "      <td>16.725000</td>\n",
              "      <td>34</td>\n",
              "      <td>16.0</td>\n",
              "      <td>2.5</td>\n",
              "      <td>74</td>\n",
              "    </tr>\n",
              "    <tr>\n",
              "      <th>1139</th>\n",
              "      <td>24.518182</td>\n",
              "      <td>16.700000</td>\n",
              "      <td>34</td>\n",
              "      <td>16.0</td>\n",
              "      <td>2.5</td>\n",
              "      <td>74</td>\n",
              "    </tr>\n",
              "    <tr>\n",
              "      <th>1140</th>\n",
              "      <td>21.774078</td>\n",
              "      <td>16.574031</td>\n",
              "      <td>34</td>\n",
              "      <td>16.0</td>\n",
              "      <td>2.5</td>\n",
              "      <td>74</td>\n",
              "    </tr>\n",
              "    <tr>\n",
              "      <th>1141</th>\n",
              "      <td>17.890490</td>\n",
              "      <td>15.796070</td>\n",
              "      <td>34</td>\n",
              "      <td>16.0</td>\n",
              "      <td>2.5</td>\n",
              "      <td>74</td>\n",
              "    </tr>\n",
              "    <tr>\n",
              "      <th>1142</th>\n",
              "      <td>20.665909</td>\n",
              "      <td>16.372727</td>\n",
              "      <td>37</td>\n",
              "      <td>16.0</td>\n",
              "      <td>1.8</td>\n",
              "      <td>72</td>\n",
              "    </tr>\n",
              "  </tbody>\n",
              "</table>\n",
              "<p>1143 rows × 6 columns</p>\n",
              "</div>"
            ],
            "text/plain": [
              "      ground_pm  ground_temper  avg_pm  avg_temper  wind  humid\n",
              "0      5.769822       0.691519       1         1.1   0.3     90\n",
              "1      3.918659       0.944229       1         1.1   0.3     90\n",
              "2     -0.913783       0.676092       1         1.1   0.3     90\n",
              "3      0.415542       1.342938       1         1.1   0.3     90\n",
              "4     -1.717684       1.455120       1         1.1   0.3     90\n",
              "...         ...            ...     ...         ...   ...    ...\n",
              "1138  26.437096      16.725000      34        16.0   2.5     74\n",
              "1139  24.518182      16.700000      34        16.0   2.5     74\n",
              "1140  21.774078      16.574031      34        16.0   2.5     74\n",
              "1141  17.890490      15.796070      34        16.0   2.5     74\n",
              "1142  20.665909      16.372727      37        16.0   1.8     72\n",
              "\n",
              "[1143 rows x 6 columns]"
            ]
          },
          "metadata": {},
          "execution_count": 7
        }
      ]
    },
    {
      "cell_type": "code",
      "metadata": {
        "ExecuteTime": {
          "end_time": "2021-11-10T14:01:42.021262Z",
          "start_time": "2021-11-10T14:01:42.014082Z"
        },
        "id": "q3fFYHqW58Wj",
        "colab": {
          "base_uri": "https://localhost:8080/"
        },
        "outputId": "a0ef4fe1-4a8f-487f-c98c-541368e868d9"
      },
      "source": [
        "x_scaler = MinMaxScaler()\n",
        "df_train_scaled = x_scaler.fit_transform(df_train)\n",
        "print(\"Min:\", np.min(df_train_scaled))\n",
        "print(\"Max:\", np.max(df_train_scaled))"
      ],
      "execution_count": 8,
      "outputs": [
        {
          "output_type": "stream",
          "name": "stdout",
          "text": [
            "Min: 0.0\n",
            "Max: 1.0\n"
          ]
        }
      ]
    },
    {
      "cell_type": "code",
      "metadata": {
        "ExecuteTime": {
          "end_time": "2021-11-10T14:01:42.427649Z",
          "start_time": "2021-11-10T14:01:42.423356Z"
        },
        "id": "IUzyTS2Z7MR1",
        "colab": {
          "base_uri": "https://localhost:8080/"
        },
        "outputId": "2dc754d5-af48-4508-e062-c921ec68f57d"
      },
      "source": [
        "df_train_scaled"
      ],
      "execution_count": 9,
      "outputs": [
        {
          "output_type": "execute_result",
          "data": {
            "text/plain": [
              "array([[0.06723786, 0.07802387, 0.        , 0.10196078, 0.07142857,\n",
              "        0.90322581],\n",
              "       [0.05248645, 0.08504341, 0.        , 0.10196078, 0.07142857,\n",
              "        0.90322581],\n",
              "       [0.01397804, 0.07759534, 0.        , 0.10196078, 0.07142857,\n",
              "        0.90322581],\n",
              "       ...,\n",
              "       [0.19477142, 0.51919244, 0.27731092, 0.68627451, 0.5952381 ,\n",
              "        0.64516129],\n",
              "       [0.16382416, 0.497583  , 0.27731092, 0.68627451, 0.5952381 ,\n",
              "        0.64516129],\n",
              "       [0.18594072, 0.51360082, 0.30252101, 0.68627451, 0.42857143,\n",
              "        0.61290323]])"
            ]
          },
          "metadata": {},
          "execution_count": 9
        }
      ]
    },
    {
      "cell_type": "markdown",
      "metadata": {
        "id": "Gl70OoIe6NhM"
      },
      "source": [
        "Target Data"
      ]
    },
    {
      "cell_type": "code",
      "metadata": {
        "ExecuteTime": {
          "end_time": "2021-11-10T14:01:42.953677Z",
          "start_time": "2021-11-10T14:01:42.950364Z"
        },
        "id": "vwB9-9PQ5_kt"
      },
      "source": [
        "df_target = df_data[[\"max_height\"]]"
      ],
      "execution_count": 10,
      "outputs": []
    },
    {
      "cell_type": "code",
      "metadata": {
        "ExecuteTime": {
          "end_time": "2021-11-10T14:01:43.202911Z",
          "start_time": "2021-11-10T14:01:43.195979Z"
        },
        "id": "qnRzCJpr6U21",
        "colab": {
          "base_uri": "https://localhost:8080/",
          "height": 419
        },
        "outputId": "16338de5-5247-48bd-b17e-214286cddd10"
      },
      "source": [
        "df_target"
      ],
      "execution_count": 11,
      "outputs": [
        {
          "output_type": "execute_result",
          "data": {
            "text/html": [
              "<div>\n",
              "<style scoped>\n",
              "    .dataframe tbody tr th:only-of-type {\n",
              "        vertical-align: middle;\n",
              "    }\n",
              "\n",
              "    .dataframe tbody tr th {\n",
              "        vertical-align: top;\n",
              "    }\n",
              "\n",
              "    .dataframe thead th {\n",
              "        text-align: right;\n",
              "    }\n",
              "</style>\n",
              "<table border=\"1\" class=\"dataframe\">\n",
              "  <thead>\n",
              "    <tr style=\"text-align: right;\">\n",
              "      <th></th>\n",
              "      <th>max_height</th>\n",
              "    </tr>\n",
              "  </thead>\n",
              "  <tbody>\n",
              "    <tr>\n",
              "      <th>0</th>\n",
              "      <td>39.5</td>\n",
              "    </tr>\n",
              "    <tr>\n",
              "      <th>1</th>\n",
              "      <td>17.2</td>\n",
              "    </tr>\n",
              "    <tr>\n",
              "      <th>2</th>\n",
              "      <td>26.3</td>\n",
              "    </tr>\n",
              "    <tr>\n",
              "      <th>3</th>\n",
              "      <td>39.8</td>\n",
              "    </tr>\n",
              "    <tr>\n",
              "      <th>4</th>\n",
              "      <td>24.4</td>\n",
              "    </tr>\n",
              "    <tr>\n",
              "      <th>...</th>\n",
              "      <td>...</td>\n",
              "    </tr>\n",
              "    <tr>\n",
              "      <th>1138</th>\n",
              "      <td>37.5</td>\n",
              "    </tr>\n",
              "    <tr>\n",
              "      <th>1139</th>\n",
              "      <td>22.5</td>\n",
              "    </tr>\n",
              "    <tr>\n",
              "      <th>1140</th>\n",
              "      <td>5.0</td>\n",
              "    </tr>\n",
              "    <tr>\n",
              "      <th>1141</th>\n",
              "      <td>7.5</td>\n",
              "    </tr>\n",
              "    <tr>\n",
              "      <th>1142</th>\n",
              "      <td>7.5</td>\n",
              "    </tr>\n",
              "  </tbody>\n",
              "</table>\n",
              "<p>1143 rows × 1 columns</p>\n",
              "</div>"
            ],
            "text/plain": [
              "      max_height\n",
              "0           39.5\n",
              "1           17.2\n",
              "2           26.3\n",
              "3           39.8\n",
              "4           24.4\n",
              "...          ...\n",
              "1138        37.5\n",
              "1139        22.5\n",
              "1140         5.0\n",
              "1141         7.5\n",
              "1142         7.5\n",
              "\n",
              "[1143 rows x 1 columns]"
            ]
          },
          "metadata": {},
          "execution_count": 11
        }
      ]
    },
    {
      "cell_type": "code",
      "metadata": {
        "ExecuteTime": {
          "end_time": "2021-11-10T14:01:43.479869Z",
          "start_time": "2021-11-10T14:01:43.473798Z"
        },
        "id": "HtsKdh_06Xje",
        "colab": {
          "base_uri": "https://localhost:8080/"
        },
        "outputId": "2e4730c1-3cbb-496e-ca0d-a68e177ad330"
      },
      "source": [
        "y_scaler = MinMaxScaler()\n",
        "df_target_scaled = y_scaler.fit_transform(df_target)\n",
        "print(\"Min:\", np.min(df_target_scaled))\n",
        "print(\"Max:\", np.max(df_target_scaled))"
      ],
      "execution_count": 12,
      "outputs": [
        {
          "output_type": "stream",
          "name": "stdout",
          "text": [
            "Min: 0.0\n",
            "Max: 1.0\n"
          ]
        }
      ]
    },
    {
      "cell_type": "code",
      "metadata": {
        "ExecuteTime": {
          "end_time": "2021-11-10T14:01:43.767716Z",
          "start_time": "2021-11-10T14:01:43.763344Z"
        },
        "id": "yzHakfRA7hNn",
        "colab": {
          "base_uri": "https://localhost:8080/"
        },
        "outputId": "410afd77-4204-4f66-b5ac-5f9f8e73a6b5"
      },
      "source": [
        "df_target_scaled"
      ],
      "execution_count": 13,
      "outputs": [
        {
          "output_type": "execute_result",
          "data": {
            "text/plain": [
              "array([[0.98734177],\n",
              "       [0.42278481],\n",
              "       [0.65316456],\n",
              "       ...,\n",
              "       [0.11392405],\n",
              "       [0.17721519],\n",
              "       [0.17721519]])"
            ]
          },
          "metadata": {},
          "execution_count": 13
        }
      ]
    },
    {
      "cell_type": "markdown",
      "metadata": {
        "id": "I7ma3i6W7tpx"
      },
      "source": [
        "Shape of train and target dataset"
      ]
    },
    {
      "cell_type": "code",
      "metadata": {
        "ExecuteTime": {
          "end_time": "2021-11-10T14:01:44.465455Z",
          "start_time": "2021-11-10T14:01:44.462511Z"
        },
        "colab": {
          "base_uri": "https://localhost:8080/"
        },
        "id": "3o245FQ_7itF",
        "outputId": "560432f8-f75d-411c-ea5e-bdc39bfe9d8d"
      },
      "source": [
        "print(df_train_scaled.shape)\n",
        "print(df_target_scaled.shape)"
      ],
      "execution_count": 14,
      "outputs": [
        {
          "output_type": "stream",
          "name": "stdout",
          "text": [
            "(1143, 6)\n",
            "(1143, 1)\n"
          ]
        }
      ]
    },
    {
      "cell_type": "markdown",
      "metadata": {
        "id": "KF1OEzZF8tvN"
      },
      "source": [
        "Placeholder"
      ]
    },
    {
      "cell_type": "code",
      "metadata": {
        "ExecuteTime": {
          "end_time": "2021-11-10T14:01:45.262403Z",
          "start_time": "2021-11-10T14:01:44.833463Z"
        },
        "id": "myXnWRAf70X3"
      },
      "source": [
        "X = tf.placeholder(tf.float32, [None, 6], name='train_data')\n",
        "Y = tf.placeholder(tf.float32, [None, 1], name='target_data')"
      ],
      "execution_count": 15,
      "outputs": []
    },
    {
      "cell_type": "markdown",
      "metadata": {
        "id": "9m2pF7rF8wJc"
      },
      "source": [
        "Define add_layer function\n",
        "*   Add one more layer and return the output of this layer"
      ]
    },
    {
      "cell_type": "code",
      "metadata": {
        "id": "ip0Ze0PK80CU"
      },
      "source": [
        "def add_layer(inputs, in_size, out_size, activation_function=None):\n",
        "  Weights = tf.Variable(tf.random_normal([in_size, out_size]), name='w')\n",
        "  biases = tf.Variable(tf.random_normal([1, out_size]), name='b')\n",
        "  Wx_plus_b = tf.matmul(inputs, Weights) + biases\n",
        "  \n",
        "  if activation_function is None:\n",
        "    outputs = Wx_plus_b\n",
        "  else:\n",
        "    outputs = activation_function(Wx_plus_b)\n",
        "  \n",
        "  return outputs"
      ],
      "execution_count": 16,
      "outputs": []
    },
    {
      "cell_type": "markdown",
      "metadata": {
        "id": "hgmi9MXo_fzV"
      },
      "source": [
        "Build a model"
      ]
    },
    {
      "cell_type": "code",
      "metadata": {
        "colab": {
          "base_uri": "https://localhost:8080/"
        },
        "id": "WTJTZ5C6K_6z",
        "outputId": "703fb57c-a6c4-4b93-fd45-2543743abbb9"
      },
      "source": [
        "help(add_layer)"
      ],
      "execution_count": 17,
      "outputs": [
        {
          "output_type": "stream",
          "name": "stdout",
          "text": [
            "Help on function add_layer in module __main__:\n",
            "\n",
            "add_layer(inputs, in_size, out_size, activation_function=None)\n",
            "\n"
          ]
        }
      ]
    },
    {
      "cell_type": "code",
      "metadata": {
        "id": "vF9GZlp28hbw"
      },
      "source": [
        "num_of_node = 100\n",
        "# add hidden layer\n",
        "layer_1 = add_layer(X, 6, 32, activation_function=tf.nn.sigmoid)\n",
        "layer_2 = add_layer(layer_1, 32, 64, activation_function=tf.nn.sigmoid)\n",
        "layer_3 = add_layer(layer_2, 64, 128, activation_function=tf.nn.sigmoid)\n",
        "layer_4 = add_layer(layer_3, 128, 256, activation_function=tf.nn.sigmoid)\n",
        "layer_5 = add_layer(layer_4, 256, 128, activation_function=tf.nn.sigmoid)\n",
        "layer_6 = add_layer(layer_5, 128, 64, activation_function=tf.nn.sigmoid)\n",
        "layer_7 = add_layer(layer_6, 64, 32, activation_function=tf.nn.sigmoid)\n",
        "layer_8 = add_layer(layer_7, 32, 16, activation_function=tf.nn.sigmoid)\n",
        "output = add_layer(layer_8, 16, 1, activation_function=tf.nn.sigmoid)"
      ],
      "execution_count": 18,
      "outputs": []
    },
    {
      "cell_type": "markdown",
      "metadata": {
        "id": "srEU8qSm_Gpe"
      },
      "source": [
        "Cost function\n",
        "*   Mean Squared Error\n",
        "\n",
        "Optimizer\n",
        "*   GradientDescentOptimizer"
      ]
    },
    {
      "cell_type": "code",
      "metadata": {
        "id": "kVqyTBWW-Xlv"
      },
      "source": [
        "cost = tf.reduce_mean(tf.square(Y - output))\n",
        "train = tf.train.GradientDescentOptimizer(learning_rate=0.1).minimize(cost)"
      ],
      "execution_count": 19,
      "outputs": []
    },
    {
      "cell_type": "code",
      "metadata": {
        "colab": {
          "base_uri": "https://localhost:8080/"
        },
        "id": "FY04NuYKlOiV",
        "outputId": "981c51d9-4ca3-46ec-f5e2-fde08f87091f"
      },
      "source": [
        "date = np.array(range(len(df_train_scaled)))\n",
        "date"
      ],
      "execution_count": 20,
      "outputs": [
        {
          "output_type": "execute_result",
          "data": {
            "text/plain": [
              "array([   0,    1,    2, ..., 1140, 1141, 1142])"
            ]
          },
          "metadata": {},
          "execution_count": 20
        }
      ]
    },
    {
      "cell_type": "markdown",
      "metadata": {
        "id": "dUh5rA9dD3RO"
      },
      "source": [
        "Training the model"
      ]
    },
    {
      "cell_type": "code",
      "metadata": {
        "id": "C-6zI-b6_di0",
        "colab": {
          "base_uri": "https://localhost:8080/",
          "height": 296
        },
        "outputId": "8d9b4542-f697-4a0f-cda2-2ef4dc006d35"
      },
      "source": [
        "fig = plt.figure()\n",
        "ax = fig.add_subplot(1,1,1)\n",
        "ax.plot(date, df_target_scaled, 'b-', lw=6)\n",
        "plt.xlabel(\"Time Date\")\n",
        "plt.ylabel(\"Hight\")\n",
        "\n",
        "saver = tf.train.Saver()\n",
        "with tf.Session() as sess:\n",
        "  sess.run(tf.global_variables_initializer())\n",
        "  \n",
        "  for step in range(20001):\n",
        "    cost_val, _ = sess.run([cost, train], feed_dict={X:df_train_scaled, Y:df_target_scaled})\n",
        "    if step % 100 == 0:\n",
        "      try:\n",
        "        lines[0].remove()\n",
        "      except Exception:\n",
        "        pass\n",
        "      \n",
        "      prediction_value = sess.run(output, feed_dict={X: df_train_scaled})\n",
        "      lines = ax.plot(date, prediction_value, 'r-', lw=3)\n",
        "\n",
        "      time.sleep(0.5)\n",
        "      clear_output()\n",
        "      display(fig)\n",
        "      plt.pause(1)\n",
        "\n",
        "      print('step : ', step, ' cost : ', cost_val)\n",
        "\n",
        "  saver.save(sess, \"checkpoint/Fine_Dust_Rewrite.ckpt\")  \n",
        "\n",
        "plt.close()"
      ],
      "execution_count": 21,
      "outputs": [
        {
          "output_type": "display_data",
          "data": {
            "image/png": "[encoded data removed]",
            "text/plain": [
              "<Figure size 432x288 with 1 Axes>"
            ]
          },
          "metadata": {}
        },
        {
          "output_type": "stream",
          "name": "stdout",
          "text": [
            "step :  20000  cost :  0.05338832\n"
          ]
        }
      ]
    },
    {
      "cell_type": "markdown",
      "metadata": {
        "id": "QMkfvUooD6MN"
      },
      "source": [
        "Testing the model"
      ]
    },
    {
      "cell_type": "code",
      "metadata": {
        "id": "7PvyxM4oD8QG"
      },
      "source": [
        "filename = '/content/drive/MyDrive/testing/test_finedust_real_gen_124.csv'"
      ],
      "execution_count": 22,
      "outputs": []
    },
    {
      "cell_type": "code",
      "metadata": {
        "id": "8kz_fA0_EFHW",
        "colab": {
          "base_uri": "https://localhost:8080/",
          "height": 419
        },
        "outputId": "f22d5e20-4246-48f7-d818-7089da4fdfd8"
      },
      "source": [
        "df_test = pd.read_csv(filename)\n",
        "df_test"
      ],
      "execution_count": 23,
      "outputs": [
        {
          "output_type": "execute_result",
          "data": {
            "text/html": [
              "<div>\n",
              "<style scoped>\n",
              "    .dataframe tbody tr th:only-of-type {\n",
              "        vertical-align: middle;\n",
              "    }\n",
              "\n",
              "    .dataframe tbody tr th {\n",
              "        vertical-align: top;\n",
              "    }\n",
              "\n",
              "    .dataframe thead th {\n",
              "        text-align: right;\n",
              "    }\n",
              "</style>\n",
              "<table border=\"1\" class=\"dataframe\">\n",
              "  <thead>\n",
              "    <tr style=\"text-align: right;\">\n",
              "      <th></th>\n",
              "      <th>date</th>\n",
              "      <th>ground_pm</th>\n",
              "      <th>ground_temper</th>\n",
              "      <th>avg_pm</th>\n",
              "      <th>avg_temper</th>\n",
              "      <th>wind</th>\n",
              "      <th>humid</th>\n",
              "      <th>max_height</th>\n",
              "    </tr>\n",
              "  </thead>\n",
              "  <tbody>\n",
              "    <tr>\n",
              "      <th>0</th>\n",
              "      <td>NaN</td>\n",
              "      <td>58.578611</td>\n",
              "      <td>-1.189554</td>\n",
              "      <td>59</td>\n",
              "      <td>-1.1</td>\n",
              "      <td>3.5</td>\n",
              "      <td>43</td>\n",
              "      <td>23.8</td>\n",
              "    </tr>\n",
              "    <tr>\n",
              "      <th>1</th>\n",
              "      <td>NaN</td>\n",
              "      <td>58.761213</td>\n",
              "      <td>-0.956766</td>\n",
              "      <td>59</td>\n",
              "      <td>-1.1</td>\n",
              "      <td>3.5</td>\n",
              "      <td>43</td>\n",
              "      <td>7.7</td>\n",
              "    </tr>\n",
              "    <tr>\n",
              "      <th>2</th>\n",
              "      <td>NaN</td>\n",
              "      <td>61.310958</td>\n",
              "      <td>-0.932109</td>\n",
              "      <td>59</td>\n",
              "      <td>-1.1</td>\n",
              "      <td>3.5</td>\n",
              "      <td>43</td>\n",
              "      <td>12.7</td>\n",
              "    </tr>\n",
              "    <tr>\n",
              "      <th>3</th>\n",
              "      <td>NaN</td>\n",
              "      <td>55.741208</td>\n",
              "      <td>-0.881863</td>\n",
              "      <td>59</td>\n",
              "      <td>-1.1</td>\n",
              "      <td>3.5</td>\n",
              "      <td>43</td>\n",
              "      <td>12.5</td>\n",
              "    </tr>\n",
              "    <tr>\n",
              "      <th>4</th>\n",
              "      <td>NaN</td>\n",
              "      <td>57.326914</td>\n",
              "      <td>-1.415620</td>\n",
              "      <td>59</td>\n",
              "      <td>-1.1</td>\n",
              "      <td>3.5</td>\n",
              "      <td>43</td>\n",
              "      <td>26.3</td>\n",
              "    </tr>\n",
              "    <tr>\n",
              "      <th>...</th>\n",
              "      <td>...</td>\n",
              "      <td>...</td>\n",
              "      <td>...</td>\n",
              "      <td>...</td>\n",
              "      <td>...</td>\n",
              "      <td>...</td>\n",
              "      <td>...</td>\n",
              "      <td>...</td>\n",
              "    </tr>\n",
              "    <tr>\n",
              "      <th>119</th>\n",
              "      <td>NaN</td>\n",
              "      <td>29.975892</td>\n",
              "      <td>24.040321</td>\n",
              "      <td>25</td>\n",
              "      <td>23.0</td>\n",
              "      <td>1.6</td>\n",
              "      <td>53</td>\n",
              "      <td>7.0</td>\n",
              "    </tr>\n",
              "    <tr>\n",
              "      <th>120</th>\n",
              "      <td>NaN</td>\n",
              "      <td>25.111696</td>\n",
              "      <td>24.144541</td>\n",
              "      <td>25</td>\n",
              "      <td>23.0</td>\n",
              "      <td>1.6</td>\n",
              "      <td>53</td>\n",
              "      <td>7.5</td>\n",
              "    </tr>\n",
              "    <tr>\n",
              "      <th>121</th>\n",
              "      <td>NaN</td>\n",
              "      <td>30.782762</td>\n",
              "      <td>23.227887</td>\n",
              "      <td>25</td>\n",
              "      <td>23.0</td>\n",
              "      <td>1.6</td>\n",
              "      <td>53</td>\n",
              "      <td>31.5</td>\n",
              "    </tr>\n",
              "    <tr>\n",
              "      <th>122</th>\n",
              "      <td>NaN</td>\n",
              "      <td>30.665762</td>\n",
              "      <td>23.007920</td>\n",
              "      <td>25</td>\n",
              "      <td>23.0</td>\n",
              "      <td>1.6</td>\n",
              "      <td>53</td>\n",
              "      <td>17.0</td>\n",
              "    </tr>\n",
              "    <tr>\n",
              "      <th>123</th>\n",
              "      <td>NaN</td>\n",
              "      <td>20.535244</td>\n",
              "      <td>23.659042</td>\n",
              "      <td>20</td>\n",
              "      <td>23.0</td>\n",
              "      <td>0.9</td>\n",
              "      <td>46</td>\n",
              "      <td>4.0</td>\n",
              "    </tr>\n",
              "  </tbody>\n",
              "</table>\n",
              "<p>124 rows × 8 columns</p>\n",
              "</div>"
            ],
            "text/plain": [
              "     date  ground_pm  ground_temper  ...  wind  humid  max_height\n",
              "0     NaN  58.578611      -1.189554  ...   3.5     43        23.8\n",
              "1     NaN  58.761213      -0.956766  ...   3.5     43         7.7\n",
              "2     NaN  61.310958      -0.932109  ...   3.5     43        12.7\n",
              "3     NaN  55.741208      -0.881863  ...   3.5     43        12.5\n",
              "4     NaN  57.326914      -1.415620  ...   3.5     43        26.3\n",
              "..    ...        ...            ...  ...   ...    ...         ...\n",
              "119   NaN  29.975892      24.040321  ...   1.6     53         7.0\n",
              "120   NaN  25.111696      24.144541  ...   1.6     53         7.5\n",
              "121   NaN  30.782762      23.227887  ...   1.6     53        31.5\n",
              "122   NaN  30.665762      23.007920  ...   1.6     53        17.0\n",
              "123   NaN  20.535244      23.659042  ...   0.9     46         4.0\n",
              "\n",
              "[124 rows x 8 columns]"
            ]
          },
          "metadata": {},
          "execution_count": 23
        }
      ]
    },
    {
      "cell_type": "code",
      "metadata": {
        "id": "YdhCwORqEbV2"
      },
      "source": [
        "df_test_input = df_data[[\"ground_pm\", \"ground_temper\", \"avg_pm\", \"avg_temper\", \"wind\", \"humid\"]]\n",
        "df_test_target = df_data[[\"max_height\"]]"
      ],
      "execution_count": 24,
      "outputs": []
    },
    {
      "cell_type": "code",
      "metadata": {
        "id": "yDjJsEOfFeKe"
      },
      "source": [
        "x_test_scaler = MinMaxScaler()\n",
        "df_test_input_scaled = x_test_scaler.fit_transform(df_test_input)\n",
        "\n",
        "y_test_scaler = MinMaxScaler()\n",
        "df_test_target_scaled = y_test_scaler.fit_transform(df_test_target)"
      ],
      "execution_count": 25,
      "outputs": []
    },
    {
      "cell_type": "code",
      "metadata": {
        "id": "pDCLl2mUi5VG",
        "colab": {
          "base_uri": "https://localhost:8080/"
        },
        "outputId": "749e45c7-e00e-4567-a327-572535c35084"
      },
      "source": [
        "df_test_target_scaled"
      ],
      "execution_count": 26,
      "outputs": [
        {
          "output_type": "execute_result",
          "data": {
            "text/plain": [
              "array([[0.98734177],\n",
              "       [0.42278481],\n",
              "       [0.65316456],\n",
              "       ...,\n",
              "       [0.11392405],\n",
              "       [0.17721519],\n",
              "       [0.17721519]])"
            ]
          },
          "metadata": {},
          "execution_count": 26
        }
      ]
    },
    {
      "cell_type": "code",
      "metadata": {
        "id": "_WDQJ3_zAdFh",
        "colab": {
          "base_uri": "https://localhost:8080/",
          "height": 558
        },
        "outputId": "7e2852c0-790f-4856-d37b-828427463bc6"
      },
      "source": [
        "fig = plt.figure()\n",
        "ax = fig.add_subplot(1,1,1)\n",
        "ax.plot(date, df_target_scaled, 'b-', lw=6)\n",
        "plt.xlabel(\"Time Date\")\n",
        "plt.ylabel(\"Hight\")\n",
        "\n",
        "saver = tf.train.Saver()\n",
        "with tf.Session() as sess:\n",
        "  sess.run(tf.global_variables_initializer())\n",
        "  saver.restore(sess, \"checkpoint/Fine_Dust_Rewrite.ckpt\")\n",
        "\n",
        "  prediction_value = sess.run(output, feed_dict={X: df_test_input_scaled})\n",
        "  lines = ax.plot(date, prediction_value, 'r-', lw=3)\n",
        "\n",
        "  time.sleep(0.5)\n",
        "  clear_output()\n",
        "  display(fig)\n",
        "  plt.pause(1)\n",
        "\n",
        "\n",
        "  print(\"Cost:\", cost.eval({X: df_test_input_scaled, Y: df_test_target_scaled}))"
      ],
      "execution_count": 27,
      "outputs": [
        {
          "output_type": "display_data",
          "data": {
            "image/png": "[encoded data removed]",
            "text/plain": [
              "<Figure size 432x288 with 1 Axes>"
            ]
          },
          "metadata": {}
        },
        {
          "output_type": "display_data",
          "data": {
            "image/png": "[encoded data removed]",
            "text/plain": [
              "<Figure size 432x288 with 1 Axes>"
            ]
          },
          "metadata": {
            "needs_background": "light"
          }
        },
        {
          "output_type": "stream",
          "name": "stdout",
          "text": [
            "Cost: 0.053388238\n"
          ]
        }
      ]
    },
    {
      "cell_type": "code",
      "metadata": {
        "id": "TPwke8HUFN0z"
      },
      "source": [
        ""
      ],
      "execution_count": 27,
      "outputs": []
    }
  ]
}